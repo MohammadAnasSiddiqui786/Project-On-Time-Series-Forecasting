{
 "cells": [
  {
   "cell_type": "code",
   "execution_count": 1,
   "id": "de5c8474",
   "metadata": {
    "ExecuteTime": {
     "end_time": "2022-03-04T06:37:30.885183Z",
     "start_time": "2022-03-04T06:37:21.700396Z"
    }
   },
   "outputs": [],
   "source": [
    "import numpy as np\n",
    "import pandas as pd\n",
    "import matplotlib.pyplot as plt\n",
    "from nsepy import get_history\n",
    "from datetime import date"
   ]
  },
  {
   "cell_type": "code",
   "execution_count": 2,
   "id": "5ec2c23a",
   "metadata": {
    "ExecuteTime": {
     "end_time": "2022-03-04T06:37:35.736974Z",
     "start_time": "2022-03-04T06:37:32.753920Z"
    }
   },
   "outputs": [
    {
     "name": "stdout",
     "output_type": "stream",
     "text": [
      "NIFTY 50\n"
     ]
    }
   ],
   "source": [
    "# symbol = [\"NIFTY 50\",\"NIFTY NEXT 50\",\"NIFTY MIDCAP SELECT\",\"NIFTY BANK\",\"NIFTY FINANCIAL SERVICES\"]\n",
    "\n",
    "symbol = [\"NIFTY 50\"]\n",
    "\n",
    "df = []\n",
    "df = pd.DataFrame(df)\n",
    "\n",
    "for x in symbol:\n",
    "    data = get_history(symbol=x, start=date(2012,3,1), end=date(2022,3,1), index = True)\n",
    "    data = pd.DataFrame(data)\n",
    "    data['Index_Name'] = x\n",
    "    df = pd.concat([df,data])\n",
    "    print(x)"
   ]
  },
  {
   "cell_type": "code",
   "execution_count": 3,
   "id": "0de43c54",
   "metadata": {
    "ExecuteTime": {
     "end_time": "2022-03-04T06:37:37.593495Z",
     "start_time": "2022-03-04T06:37:37.403380Z"
    }
   },
   "outputs": [
    {
     "data": {
      "text/html": [
       "<div>\n",
       "<style scoped>\n",
       "    .dataframe tbody tr th:only-of-type {\n",
       "        vertical-align: middle;\n",
       "    }\n",
       "\n",
       "    .dataframe tbody tr th {\n",
       "        vertical-align: top;\n",
       "    }\n",
       "\n",
       "    .dataframe thead th {\n",
       "        text-align: right;\n",
       "    }\n",
       "</style>\n",
       "<table border=\"1\" class=\"dataframe\">\n",
       "  <thead>\n",
       "    <tr style=\"text-align: right;\">\n",
       "      <th></th>\n",
       "      <th>Open</th>\n",
       "      <th>High</th>\n",
       "      <th>Low</th>\n",
       "      <th>Close</th>\n",
       "      <th>Volume</th>\n",
       "      <th>Turnover</th>\n",
       "      <th>Index_Name</th>\n",
       "    </tr>\n",
       "    <tr>\n",
       "      <th>Date</th>\n",
       "      <th></th>\n",
       "      <th></th>\n",
       "      <th></th>\n",
       "      <th></th>\n",
       "      <th></th>\n",
       "      <th></th>\n",
       "      <th></th>\n",
       "    </tr>\n",
       "  </thead>\n",
       "  <tbody>\n",
       "    <tr>\n",
       "      <th>2012-03-01</th>\n",
       "      <td>5366.00</td>\n",
       "      <td>5372.45</td>\n",
       "      <td>5297.50</td>\n",
       "      <td>5339.75</td>\n",
       "      <td>196867905</td>\n",
       "      <td>6.847630e+10</td>\n",
       "      <td>NIFTY 50</td>\n",
       "    </tr>\n",
       "    <tr>\n",
       "      <th>2012-03-02</th>\n",
       "      <td>5369.45</td>\n",
       "      <td>5392.55</td>\n",
       "      <td>5315.05</td>\n",
       "      <td>5359.35</td>\n",
       "      <td>185021526</td>\n",
       "      <td>6.768520e+10</td>\n",
       "      <td>NIFTY 50</td>\n",
       "    </tr>\n",
       "    <tr>\n",
       "      <th>2012-03-03</th>\n",
       "      <td>5360.05</td>\n",
       "      <td>5369.60</td>\n",
       "      <td>5353.40</td>\n",
       "      <td>5359.40</td>\n",
       "      <td>16770991</td>\n",
       "      <td>4.293500e+09</td>\n",
       "      <td>NIFTY 50</td>\n",
       "    </tr>\n",
       "    <tr>\n",
       "      <th>2012-03-05</th>\n",
       "      <td>5342.55</td>\n",
       "      <td>5344.50</td>\n",
       "      <td>5265.70</td>\n",
       "      <td>5280.35</td>\n",
       "      <td>196421155</td>\n",
       "      <td>6.036630e+10</td>\n",
       "      <td>NIFTY 50</td>\n",
       "    </tr>\n",
       "    <tr>\n",
       "      <th>2012-03-06</th>\n",
       "      <td>5266.00</td>\n",
       "      <td>5382.05</td>\n",
       "      <td>5206.40</td>\n",
       "      <td>5222.40</td>\n",
       "      <td>290396014</td>\n",
       "      <td>9.319010e+10</td>\n",
       "      <td>NIFTY 50</td>\n",
       "    </tr>\n",
       "  </tbody>\n",
       "</table>\n",
       "</div>"
      ],
      "text/plain": [
       "               Open     High      Low    Close     Volume      Turnover  \\\n",
       "Date                                                                      \n",
       "2012-03-01  5366.00  5372.45  5297.50  5339.75  196867905  6.847630e+10   \n",
       "2012-03-02  5369.45  5392.55  5315.05  5359.35  185021526  6.768520e+10   \n",
       "2012-03-03  5360.05  5369.60  5353.40  5359.40   16770991  4.293500e+09   \n",
       "2012-03-05  5342.55  5344.50  5265.70  5280.35  196421155  6.036630e+10   \n",
       "2012-03-06  5266.00  5382.05  5206.40  5222.40  290396014  9.319010e+10   \n",
       "\n",
       "           Index_Name  \n",
       "Date                   \n",
       "2012-03-01   NIFTY 50  \n",
       "2012-03-02   NIFTY 50  \n",
       "2012-03-03   NIFTY 50  \n",
       "2012-03-05   NIFTY 50  \n",
       "2012-03-06   NIFTY 50  "
      ]
     },
     "execution_count": 3,
     "metadata": {},
     "output_type": "execute_result"
    }
   ],
   "source": [
    "df.head()"
   ]
  },
  {
   "cell_type": "code",
   "execution_count": 4,
   "id": "2f717e5c",
   "metadata": {
    "ExecuteTime": {
     "end_time": "2022-03-04T06:37:40.146501Z",
     "start_time": "2022-03-04T06:37:40.129549Z"
    }
   },
   "outputs": [
    {
     "data": {
      "text/plain": [
       "(2477, 7)"
      ]
     },
     "execution_count": 4,
     "metadata": {},
     "output_type": "execute_result"
    }
   ],
   "source": [
    "df.shape"
   ]
  },
  {
   "cell_type": "code",
   "execution_count": 5,
   "id": "ca55513b",
   "metadata": {
    "ExecuteTime": {
     "end_time": "2022-03-04T06:38:01.437583Z",
     "start_time": "2022-03-04T06:38:01.153381Z"
    }
   },
   "outputs": [],
   "source": [
    "df.to_csv(\"NSE_Extracted_data.csv\", index=True)"
   ]
  },
  {
   "cell_type": "code",
   "execution_count": 7,
   "id": "438e8b44",
   "metadata": {
    "ExecuteTime": {
     "end_time": "2022-03-04T06:38:40.824596Z",
     "start_time": "2022-03-04T06:38:40.801658Z"
    }
   },
   "outputs": [
    {
     "data": {
      "text/plain": [
       "0        5339.75\n",
       "1        5359.35\n",
       "2        5359.40\n",
       "3        5280.35\n",
       "4        5222.40\n",
       "          ...   \n",
       "2472    17092.20\n",
       "2473    17063.25\n",
       "2474    16247.95\n",
       "2475    16658.40\n",
       "2476    16793.90\n",
       "Name: Close, Length: 2477, dtype: float64"
      ]
     },
     "execution_count": 7,
     "metadata": {},
     "output_type": "execute_result"
    }
   ],
   "source": [
    "df = df.reset_index()[\"Close\"]\n",
    "df"
   ]
  },
  {
   "cell_type": "code",
   "execution_count": 9,
   "id": "0013f63a",
   "metadata": {
    "ExecuteTime": {
     "end_time": "2022-03-04T06:39:12.192075Z",
     "start_time": "2022-03-04T06:39:11.933799Z"
    }
   },
   "outputs": [
    {
     "data": {
      "image/png": "[encoded data removed]",
      "text/plain": [
       "<Figure size 864x432 with 1 Axes>"
      ]
     },
     "metadata": {
      "needs_background": "light"
     },
     "output_type": "display_data"
    }
   ],
   "source": [
    "plt.figure(figsize=(12,6))\n",
    "plt.plot(df)\n",
    "plt.show()"
   ]
  },
  {
   "cell_type": "code",
   "execution_count": 10,
   "id": "5311b892",
   "metadata": {
    "ExecuteTime": {
     "end_time": "2022-03-04T06:40:16.033839Z",
     "start_time": "2022-03-04T06:40:12.499232Z"
    }
   },
   "outputs": [],
   "source": [
    "from sklearn.preprocessing import MinMaxScaler\n",
    "scaler = MinMaxScaler(feature_range=(0,1))\n",
    "df = scaler.fit_transform(np.array(df).reshape(-1,1)) "
   ]
  },
  {
   "cell_type": "code",
   "execution_count": 11,
   "id": "99257a1e",
   "metadata": {
    "ExecuteTime": {
     "end_time": "2022-03-04T06:40:41.107096Z",
     "start_time": "2022-03-04T06:40:41.091178Z"
    }
   },
   "outputs": [
    {
     "name": "stdout",
     "output_type": "stream",
     "text": [
      "[[0.03695369]\n",
      " [0.03839049]\n",
      " [0.03839415]\n",
      " ...\n",
      " [0.83659302]\n",
      " [0.86668157]\n",
      " [0.87661457]]\n"
     ]
    }
   ],
   "source": [
    "print(df)"
   ]
  },
  {
   "cell_type": "code",
   "execution_count": 12,
   "id": "6aefb9dc",
   "metadata": {
    "ExecuteTime": {
     "end_time": "2022-03-04T06:41:29.148244Z",
     "start_time": "2022-03-04T06:41:29.134275Z"
    }
   },
   "outputs": [],
   "source": [
    "training_size = int(len(df)*0.70)\n",
    "test_size = len(df) - training_size\n",
    "train_data, test_data = df[0:training_size,:], df[training_size:len(df),:]"
   ]
  },
  {
   "cell_type": "code",
   "execution_count": 13,
   "id": "dab4d976",
   "metadata": {
    "ExecuteTime": {
     "end_time": "2022-03-04T06:41:43.726356Z",
     "start_time": "2022-03-04T06:41:43.714378Z"
    }
   },
   "outputs": [
    {
     "data": {
      "text/plain": [
       "(1733, 744)"
      ]
     },
     "execution_count": 13,
     "metadata": {},
     "output_type": "execute_result"
    }
   ],
   "source": [
    "training_size,test_size"
   ]
  },
  {
   "cell_type": "code",
   "execution_count": 14,
   "id": "26783d54",
   "metadata": {
    "ExecuteTime": {
     "end_time": "2022-03-04T06:42:01.322193Z",
     "start_time": "2022-03-04T06:42:01.318203Z"
    }
   },
   "outputs": [
    {
     "name": "stdout",
     "output_type": "stream",
     "text": [
      "[[0.03695369]\n",
      " [0.03839049]\n",
      " [0.03839415]\n",
      " ...\n",
      " [0.43661208]\n",
      " [0.44309602]\n",
      " [0.4398119 ]]\n"
     ]
    }
   ],
   "source": [
    "print(train_data)"
   ]
  },
  {
   "cell_type": "code",
   "execution_count": 15,
   "id": "157337f1",
   "metadata": {
    "ExecuteTime": {
     "end_time": "2022-03-04T06:42:32.932950Z",
     "start_time": "2022-03-04T06:42:32.906025Z"
    }
   },
   "outputs": [
    {
     "name": "stdout",
     "output_type": "stream",
     "text": [
      "[[0.43771167]\n",
      " [0.43667439]\n",
      " [0.44187913]\n",
      " [0.45096544]\n",
      " [0.45577067]\n",
      " [0.45615186]\n",
      " [0.45448048]\n",
      " [0.46420455]\n",
      " [0.47396528]\n",
      " [0.47693419]\n",
      " [0.47704781]\n",
      " [0.48317621]\n",
      " [0.48576759]\n",
      " [0.49091369]\n",
      " [0.49008166]\n",
      " [0.48537907]\n",
      " [0.47785418]\n",
      " [0.48731069]\n",
      " [0.48451039]\n",
      " [0.49367   ]\n",
      " [0.49762121]\n",
      " [0.50093832]\n",
      " [0.50416746]\n",
      " [0.499091  ]\n",
      " [0.49572258]\n",
      " [0.50070374]\n",
      " [0.49619907]\n",
      " [0.50114358]\n",
      " [0.49471828]\n",
      " [0.49562728]\n",
      " [0.49905435]\n",
      " [0.50249241]\n",
      " [0.50958846]\n",
      " [0.50707039]\n",
      " [0.49546234]\n",
      " [0.49410618]\n",
      " [0.50511678]\n",
      " [0.49893339]\n",
      " [0.50720601]\n",
      " [0.50672951]\n",
      " [0.50501415]\n",
      " [0.50409782]\n",
      " [0.49574091]\n",
      " [0.48838462]\n",
      " [0.47823537]\n",
      " [0.47400927]\n",
      " [0.47233055]\n",
      " [0.46274942]\n",
      " [0.46816309]\n",
      " [0.46339452]\n",
      " [0.47073248]\n",
      " [0.48173208]\n",
      " [0.51260135]\n",
      " [0.50386691]\n",
      " [0.50597813]\n",
      " [0.50005131]\n",
      " [0.51376325]\n",
      " [0.5196754 ]\n",
      " [0.51996862]\n",
      " [0.51500946]\n",
      " [0.52122583]\n",
      " [0.51953245]\n",
      " [0.53168297]\n",
      " [0.52677878]\n",
      " [0.51373759]\n",
      " [0.51570953]\n",
      " [0.51952512]\n",
      " [0.52266996]\n",
      " [0.51831557]\n",
      " [0.51889102]\n",
      " [0.51223848]\n",
      " [0.50115824]\n",
      " [0.50257671]\n",
      " [0.50257305]\n",
      " [0.51285792]\n",
      " [0.5049665 ]\n",
      " [0.50317416]\n",
      " [0.51027021]\n",
      " [0.51401616]\n",
      " [0.51357632]\n",
      " [0.50971308]\n",
      " [0.51533933]\n",
      " [0.51861612]\n",
      " [0.51908895]\n",
      " [0.52128814]\n",
      " [0.51134781]\n",
      " [0.49283431]\n",
      " [0.49263639]\n",
      " [0.48845793]\n",
      " [0.49461566]\n",
      " [0.49238715]\n",
      " [0.49501517]\n",
      " [0.50045816]\n",
      " [0.50228349]\n",
      " [0.49564194]\n",
      " [0.48261909]\n",
      " [0.47726406]\n",
      " [0.47615347]\n",
      " [0.47177343]\n",
      " [0.47036961]\n",
      " [0.47272641]\n",
      " [0.46575498]\n",
      " [0.45814579]\n",
      " [0.46053558]\n",
      " [0.45041931]\n",
      " [0.45169118]\n",
      " [0.44181316]\n",
      " [0.44809184]\n",
      " [0.44129268]\n",
      " [0.45426423]\n",
      " [0.45992347]\n",
      " [0.44644978]\n",
      " [0.45404064]\n",
      " [0.45538948]\n",
      " [0.45583664]\n",
      " [0.45313164]\n",
      " [0.44592564]\n",
      " [0.43292477]\n",
      " [0.43937572]\n",
      " [0.4561262 ]\n",
      " [0.45960825]\n",
      " [0.45526486]\n",
      " [0.4480955 ]\n",
      " [0.45358981]\n",
      " [0.43707024]\n",
      " [0.44049731]\n",
      " [0.44073556]\n",
      " [0.44794156]\n",
      " [0.45210902]\n",
      " [0.45450247]\n",
      " [0.45062457]\n",
      " [0.45744938]\n",
      " [0.45214201]\n",
      " [0.43851438]\n",
      " [0.44020408]\n",
      " [0.43024543]\n",
      " [0.47198601]\n",
      " [0.49588385]\n",
      " [0.49500418]\n",
      " [0.48415485]\n",
      " [0.49375797]\n",
      " [0.48944756]\n",
      " [0.48666559]\n",
      " [0.47826836]\n",
      " [0.4749036 ]\n",
      " [0.46469571]\n",
      " [0.46115135]\n",
      " [0.47485229]\n",
      " [0.46907942]\n",
      " [0.47424751]\n",
      " [0.47689387]\n",
      " [0.48328251]\n",
      " [0.48589954]\n",
      " [0.49486856]\n",
      " [0.50040318]\n",
      " [0.49501517]\n",
      " [0.49616975]\n",
      " [0.49459366]\n",
      " [0.49468896]\n",
      " [0.49785946]\n",
      " [0.50956647]\n",
      " [0.51376325]\n",
      " [0.51620801]\n",
      " [0.51717199]\n",
      " [0.52088862]\n",
      " [0.51912194]\n",
      " [0.52270295]\n",
      " [0.52607504]\n",
      " [0.51845852]\n",
      " [0.51884704]\n",
      " [0.51349568]\n",
      " [0.51581583]\n",
      " [0.51752753]\n",
      " [0.51672482]\n",
      " [0.52080065]\n",
      " [0.52512572]\n",
      " [0.52287522]\n",
      " [0.51891668]\n",
      " [0.53059803]\n",
      " [0.52795534]\n",
      " [0.53257364]\n",
      " [0.53627194]\n",
      " [0.52930051]\n",
      " [0.52872506]\n",
      " [0.52476652]\n",
      " [0.52835853]\n",
      " [0.52654053]\n",
      " [0.51943715]\n",
      " [0.52061005]\n",
      " [0.51469424]\n",
      " [0.51860513]\n",
      " [0.52312446]\n",
      " [0.53154735]\n",
      " [0.52914657]\n",
      " [0.53728723]\n",
      " [0.54144003]\n",
      " [0.54422933]\n",
      " [0.54511634]\n",
      " [0.54445292]\n",
      " [0.54091955]\n",
      " [0.5344686 ]\n",
      " [0.54321037]\n",
      " [0.5439471 ]\n",
      " [0.53754014]\n",
      " [0.53857009]\n",
      " [0.54587872]\n",
      " [0.54180656]\n",
      " [0.52468222]\n",
      " [0.52907326]\n",
      " [0.52705001]\n",
      " [0.54101852]\n",
      " [0.54401674]\n",
      " [0.54934977]\n",
      " [0.55175055]\n",
      " [0.55035773]\n",
      " [0.55125207]\n",
      " [0.55102116]\n",
      " [0.54165262]\n",
      " [0.53764276]\n",
      " [0.53302813]\n",
      " [0.53841248]\n",
      " [0.54338997]\n",
      " [0.53391514]\n",
      " [0.52928219]\n",
      " [0.53468486]\n",
      " [0.52781606]\n",
      " [0.52241339]\n",
      " [0.50040318]\n",
      " [0.50377894]\n",
      " [0.52369991]\n",
      " [0.53172695]\n",
      " [0.53530429]\n",
      " [0.53240137]\n",
      " [0.52750084]\n",
      " [0.53310144]\n",
      " [0.53994092]\n",
      " [0.53799463]\n",
      " [0.53350829]\n",
      " [0.52854912]\n",
      " [0.5246419 ]\n",
      " [0.53442095]\n",
      " [0.53111851]\n",
      " [0.51268565]\n",
      " [0.5103765 ]\n",
      " [0.50162373]\n",
      " [0.49831029]\n",
      " [0.46667497]\n",
      " [0.46161684]\n",
      " [0.47411923]\n",
      " [0.47028531]\n",
      " [0.47160482]\n",
      " [0.45111206]\n",
      " [0.41167329]\n",
      " [0.41218277]\n",
      " [0.34853461]\n",
      " [0.37529506]\n",
      " [0.31974357]\n",
      " [0.30285748]\n",
      " [0.26633263]\n",
      " [0.25127919]\n",
      " [0.28661281]\n",
      " [0.20339555]\n",
      " [0.21738238]\n",
      " [0.25526705]\n",
      " [0.27898896]\n",
      " [0.28036712]\n",
      " [0.25257305]\n",
      " [0.27578548]\n",
      " [0.25057179]\n",
      " [0.23810972]\n",
      " [0.29003988]\n",
      " [0.28685472]\n",
      " [0.31347589]\n",
      " [0.30482209]\n",
      " [0.29979694]\n",
      " [0.30474511]\n",
      " [0.32482736]\n",
      " [0.32446816]\n",
      " [0.30391309]\n",
      " [0.31900318]\n",
      " [0.32828375]\n",
      " [0.31659141]\n",
      " [0.32596728]\n",
      " [0.33319527]\n",
      " [0.34583694]\n",
      " [0.36830897]\n",
      " [0.32678831]\n",
      " [0.32034469]\n",
      " [0.32513158]\n",
      " [0.31986453]\n",
      " [0.32370944]\n",
      " [0.32280778]\n",
      " [0.31968126]\n",
      " [0.33338953]\n",
      " [0.31573739]\n",
      " [0.31530488]\n",
      " [0.29231604]\n",
      " [0.29641019]\n",
      " [0.31015145]\n",
      " [0.31306171]\n",
      " [0.30815019]\n",
      " [0.30740247]\n",
      " [0.32836073]\n",
      " [0.34120032]\n",
      " [0.34781254]\n",
      " [0.36583488]\n",
      " [0.37704708]\n",
      " [0.38309118]\n",
      " [0.38071239]\n",
      " [0.38899966]\n",
      " [0.39085431]\n",
      " [0.38199892]\n",
      " [0.3870937 ]\n",
      " [0.37139516]\n",
      " [0.37659258]\n",
      " [0.36492222]\n",
      " [0.37227484]\n",
      " [0.36986673]\n",
      " [0.3852977 ]\n",
      " [0.39649523]\n",
      " [0.40139209]\n",
      " [0.41310643]\n",
      " [0.40095958]\n",
      " [0.39975736]\n",
      " [0.40665548]\n",
      " [0.40148005]\n",
      " [0.400725  ]\n",
      " [0.41010453]\n",
      " [0.41902224]\n",
      " [0.42310173]\n",
      " [0.4345595 ]\n",
      " [0.43719853]\n",
      " [0.43031507]\n",
      " [0.43821015]\n",
      " [0.43488205]\n",
      " [0.43742211]\n",
      " [0.42310173]\n",
      " [0.42389711]\n",
      " [0.43282214]\n",
      " [0.44467943]\n",
      " [0.45351284]\n",
      " [0.46377938]\n",
      " [0.46160585]\n",
      " [0.46767927]\n",
      " [0.46611785]\n",
      " [0.4615472 ]\n",
      " [0.47391763]\n",
      " [0.46675561]\n",
      " [0.45937367]\n",
      " [0.45726978]\n",
      " [0.44393904]\n",
      " [0.45886786]\n",
      " [0.45933702]\n",
      " [0.46655768]\n",
      " [0.46757664]\n",
      " [0.47168912]\n",
      " [0.47552671]\n",
      " [0.47449309]\n",
      " [0.4739103 ]\n",
      " [0.46496327]\n",
      " [0.46999941]\n",
      " [0.480134  ]\n",
      " [0.48182371]\n",
      " [0.47477165]\n",
      " [0.47912604]\n",
      " [0.48607914]\n",
      " [0.48650432]\n",
      " [0.49217456]\n",
      " [0.49288196]\n",
      " [0.49935857]\n",
      " [0.48029161]\n",
      " [0.48635771]\n",
      " [0.49110429]\n",
      " [0.49055082]\n",
      " [0.47635873]\n",
      " [0.47791282]\n",
      " [0.47514918]\n",
      " [0.47226458]\n",
      " [0.48481827]\n",
      " [0.48593253]\n",
      " [0.48414386]\n",
      " [0.49013664]\n",
      " [0.49620274]\n",
      " [0.4897188 ]\n",
      " [0.48890143]\n",
      " [0.47025232]\n",
      " [0.46314894]\n",
      " [0.46155087]\n",
      " [0.43763103]\n",
      " [0.45556908]\n",
      " [0.46856628]\n",
      " [0.46818875]\n",
      " [0.4700324 ]\n",
      " [0.48245048]\n",
      " [0.48878414]\n",
      " [0.5004435 ]\n",
      " [0.50604777]\n",
      " [0.51306684]\n",
      " [0.51890202]\n",
      " [0.5201299 ]\n",
      " [0.52039014]\n",
      " [0.52306948]\n",
      " [0.50175935]\n",
      " [0.50777779]\n",
      " [0.51588547]\n",
      " [0.51762649]\n",
      " [0.52062105]\n",
      " [0.51760083]\n",
      " [0.52008591]\n",
      " [0.50816632]\n",
      " [0.51708402]\n",
      " [0.50536968]\n",
      " [0.50105928]\n",
      " [0.49897738]\n",
      " [0.50093832]\n",
      " [0.51152008]\n",
      " [0.51848417]\n",
      " [0.53401044]\n",
      " [0.54451156]\n",
      " [0.55898955]\n",
      " [0.57145528]\n",
      " [0.58010908]\n",
      " [0.57583166]\n",
      " [0.57796854]\n",
      " [0.5823889 ]\n",
      " [0.58927603]\n",
      " [0.59397129]\n",
      " [0.58176214]\n",
      " [0.58816544]\n",
      " [0.59310628]\n",
      " [0.60254079]\n",
      " [0.58811779]\n",
      " [0.59754497]\n",
      " [0.5962218 ]\n",
      " [0.606492  ]\n",
      " [0.60683654]\n",
      " [0.60831366]\n",
      " [0.61745129]\n",
      " [0.62457666]\n",
      " [0.62730365]\n",
      " [0.6372843 ]\n",
      " [0.63356034]\n",
      " [0.63616638]\n",
      " [0.63941384]\n",
      " [0.64012491]\n",
      " [0.64854414]\n",
      " [0.6527959 ]\n",
      " [0.65425103]\n",
      " [0.62257173]\n",
      " [0.63268066]\n",
      " [0.64256235]\n",
      " [0.65342267]\n",
      " [0.66250898]\n",
      " [0.66686337]\n",
      " [0.67048104]\n",
      " [0.67046637]\n",
      " [0.67316038]\n",
      " [0.68154662]\n",
      " [0.68642881]\n",
      " [0.68252525]\n",
      " [0.68187283]\n",
      " [0.69725981]\n",
      " [0.70733942]\n",
      " [0.71310863]\n",
      " [0.71321125]\n",
      " [0.71546542]\n",
      " [0.70359714]\n",
      " [0.69242526]\n",
      " [0.71000777]\n",
      " [0.71906476]\n",
      " [0.71508056]\n",
      " [0.69906681]\n",
      " [0.68931708]\n",
      " [0.66942176]\n",
      " [0.65842949]\n",
      " [0.64501811]\n",
      " [0.69241793]\n",
      " [0.71929567]\n",
      " [0.72971249]\n",
      " [0.73746096]\n",
      " [0.73955752]\n",
      " [0.75359934]\n",
      " [0.75312285]\n",
      " [0.75291759]\n",
      " [0.75781445]\n",
      " [0.75708138]\n",
      " [0.76817995]\n",
      " [0.76808832]\n",
      " [0.76042415]\n",
      " [0.75383025]\n",
      " [0.74377263]\n",
      " [0.72133725]\n",
      " [0.72369038]\n",
      " [0.74379096]\n",
      " [0.75224684]\n",
      " [0.71059422]\n",
      " [0.7276306 ]\n",
      " [0.73918   ]\n",
      " [0.76311449]\n",
      " [0.75102995]\n",
      " [0.74057282]\n",
      " [0.74189966]\n",
      " [0.75232381]\n",
      " [0.75792441]\n",
      " [0.7473793 ]\n",
      " [0.73994238]\n",
      " [0.7385459 ]\n",
      " [0.72468002]\n",
      " [0.71269811]\n",
      " [0.72634407]\n",
      " [0.72578694]\n",
      " [0.73153049]\n",
      " [0.71207867]\n",
      " [0.69562142]\n",
      " [0.70899248]\n",
      " [0.73375533]\n",
      " [0.72243685]\n",
      " [0.7353864 ]\n",
      " [0.71855895]\n",
      " [0.72190904]\n",
      " [0.7318457 ]\n",
      " [0.73585922]\n",
      " [0.73300394]\n",
      " [0.6945878 ]\n",
      " [0.70880921]\n",
      " [0.71442814]\n",
      " [0.71709649]\n",
      " [0.69815415]\n",
      " [0.69353219]\n",
      " [0.70157755]\n",
      " [0.69682731]\n",
      " [0.70735775]\n",
      " [0.71967687]\n",
      " [0.73518114]\n",
      " [0.73740598]\n",
      " [0.71806779]\n",
      " [0.71829138]\n",
      " [0.70820077]\n",
      " [0.71709649]\n",
      " [0.72493659]\n",
      " [0.73214626]\n",
      " [0.74088437]\n",
      " [0.73416951]\n",
      " [0.72286202]\n",
      " [0.7214912 ]\n",
      " [0.73947689]\n",
      " [0.75303488]\n",
      " [0.74732066]\n",
      " [0.73822335]\n",
      " [0.75796106]\n",
      " [0.75960312]\n",
      " [0.76039116]\n",
      " [0.76720864]\n",
      " [0.76987699]\n",
      " [0.77704634]\n",
      " [0.78783336]\n",
      " [0.78725058]\n",
      " [0.78734954]\n",
      " [0.79571745]\n",
      " [0.79424399]\n",
      " [0.80021112]\n",
      " [0.79936443]\n",
      " [0.7916856 ]\n",
      " [0.79919217]\n",
      " [0.80370783]\n",
      " [0.80462416]\n",
      " [0.80883194]\n",
      " [0.80137669]\n",
      " [0.79579442]\n",
      " [0.7952043 ]\n",
      " [0.79983359]\n",
      " [0.80175788]\n",
      " [0.79546821]\n",
      " [0.8030554 ]\n",
      " [0.80817951]\n",
      " [0.80483308]\n",
      " [0.79997654]\n",
      " [0.79800094]\n",
      " [0.79495873]\n",
      " [0.79805225]\n",
      " [0.80627355]\n",
      " [0.80509332]\n",
      " [0.80959432]\n",
      " [0.7984701 ]\n",
      " [0.79567713]\n",
      " [0.79588239]\n",
      " [0.80466081]\n",
      " [0.80771035]\n",
      " [0.81286012]\n",
      " [0.81280147]\n",
      " [0.8002661 ]\n",
      " [0.79144736]\n",
      " [0.8055185 ]\n",
      " [0.8078643 ]\n",
      " [0.80554782]\n",
      " [0.79982993]\n",
      " [0.79711393]\n",
      " [0.80217573]\n",
      " [0.80104681]\n",
      " [0.80999751]\n",
      " [0.82800152]\n",
      " [0.83738839]\n",
      " [0.84001276]\n",
      " [0.83587828]\n",
      " [0.83734807]\n",
      " [0.83894981]\n",
      " [0.83910742]\n",
      " [0.84512953]\n",
      " [0.85720307]\n",
      " [0.85969182]\n",
      " [0.86347076]\n",
      " [0.860117  ]\n",
      " [0.8514412 ]\n",
      " [0.85480962]\n",
      " [0.86420382]\n",
      " [0.86494055]\n",
      " [0.86510549]\n",
      " [0.87011231]\n",
      " [0.88666852]\n",
      " [0.90141408]\n",
      " [0.89731259]\n",
      " [0.90888765]\n",
      " [0.9154449 ]\n",
      " [0.91941809]\n",
      " [0.91826719]\n",
      " [0.91763675]\n",
      " [0.91879133]\n",
      " [0.9177687 ]\n",
      " [0.91957937]\n",
      " [0.92980193]\n",
      " [0.93786928]\n",
      " [0.93461815]\n",
      " [0.92081824]\n",
      " [0.93292111]\n",
      " [0.93179586]\n",
      " [0.95205038]\n",
      " [0.95426789]\n",
      " [0.95440717]\n",
      " [0.94660006]\n",
      " [0.94386573]\n",
      " [0.93703725]\n",
      " [0.93072559]\n",
      " [0.94239594]\n",
      " [0.95200273]\n",
      " [0.93907883]\n",
      " [0.94966059]\n",
      " [0.95734675]\n",
      " [0.96106705]\n",
      " [0.96443913]\n",
      " [0.97688654]\n",
      " [0.98984708]\n",
      " [1.        ]\n",
      " [0.99572625]\n",
      " [0.9845727 ]\n",
      " [0.97808509]\n",
      " [0.97345214]\n",
      " [0.97422185]\n",
      " [0.98470465]\n",
      " [0.9804932 ]\n",
      " [0.95456478]\n",
      " [0.94095914]\n",
      " [0.95987215]\n",
      " [0.95688859]\n",
      " [0.95250854]\n",
      " [0.95893017]\n",
      " [0.97005439]\n",
      " [0.96827305]\n",
      " [0.96629012]\n",
      " [0.95576334]\n",
      " [0.97256147]\n",
      " [0.97305262]\n",
      " [0.9649706 ]\n",
      " [0.95759966]\n",
      " [0.94778762]\n",
      " [0.92225871]\n",
      " [0.9286217 ]\n",
      " [0.92214875]\n",
      " [0.93103347]\n",
      " [0.89366194]\n",
      " [0.89567786]\n",
      " [0.89049145]\n",
      " [0.9039578 ]\n",
      " [0.92116645]\n",
      " [0.90614233]\n",
      " [0.88529037]\n",
      " [0.90467621]\n",
      " [0.92615861]\n",
      " [0.92961133]\n",
      " [0.92920448]\n",
      " [0.91871802]\n",
      " [0.91554019]\n",
      " [0.907953  ]\n",
      " [0.90993227]\n",
      " [0.89063806]\n",
      " [0.86344144]\n",
      " [0.87492486]\n",
      " [0.8884572 ]\n",
      " [0.89704502]\n",
      " [0.89199789]\n",
      " [0.89804566]\n",
      " [0.90882168]\n",
      " [0.90738121]\n",
      " [0.9066738 ]\n",
      " [0.91767707]\n",
      " [0.93759072]\n",
      " [0.95075286]\n",
      " [0.95954961]\n",
      " [0.94640213]\n",
      " [0.95129899]\n",
      " [0.96527116]\n",
      " [0.96911607]\n",
      " [0.98059583]\n",
      " [0.9839276 ]\n",
      " [0.98377732]\n",
      " [0.98761491]\n",
      " [0.97331652]\n",
      " [0.96051358]\n",
      " [0.94721583]\n",
      " [0.93696395]\n",
      " [0.90265295]\n",
      " [0.91209846]\n",
      " [0.89979767]\n",
      " [0.89919656]\n",
      " [0.91663612]\n",
      " [0.93400971]\n",
      " [0.94890187]\n",
      " [0.93278916]\n",
      " [0.92957101]\n",
      " [0.90738121]\n",
      " [0.91127743]\n",
      " [0.92572243]\n",
      " [0.93613559]\n",
      " [0.91919451]\n",
      " [0.88019925]\n",
      " [0.91755978]\n",
      " [0.91534227]\n",
      " [0.91405208]\n",
      " [0.91197751]\n",
      " [0.90687173]\n",
      " [0.89848183]\n",
      " [0.89635961]\n",
      " [0.83659302]\n",
      " [0.86668157]\n",
      " [0.87661457]]\n"
     ]
    }
   ],
   "source": [
    "print(test_data)"
   ]
  },
  {
   "cell_type": "code",
   "execution_count": 16,
   "id": "ddb4f70f",
   "metadata": {
    "ExecuteTime": {
     "end_time": "2022-03-04T06:44:17.436699Z",
     "start_time": "2022-03-04T06:44:17.429746Z"
    }
   },
   "outputs": [],
   "source": [
    "# convert an array of values into a dataset matrix\n",
    "\n",
    "def create_dataset(dataset, time_step=1):\n",
    "    dataX, dataY = [], []\n",
    "    for i in range(len(dataset)-time_step-1):\n",
    "        a = dataset[i:(i+time_step), 0]   ###i=0, 0,1,2,3-----99   100 \n",
    "        dataX.append(a)\n",
    "        dataY.append(dataset[i + time_step, 0])\n",
    "    return np.array(dataX), np.array(dataY)"
   ]
  },
  {
   "cell_type": "code",
   "execution_count": 17,
   "id": "33972ae3",
   "metadata": {
    "ExecuteTime": {
     "end_time": "2022-03-04T06:44:46.361714Z",
     "start_time": "2022-03-04T06:44:46.342797Z"
    }
   },
   "outputs": [],
   "source": [
    "# reshape into X=t,t+1,t+2,t+3 and Y=t+4\n",
    "\n",
    "time_step = 100\n",
    "X_train, y_train = create_dataset(train_data, time_step)\n",
    "X_test, y_test = create_dataset(test_data, time_step)"
   ]
  },
  {
   "cell_type": "code",
   "execution_count": 18,
   "id": "597c27c2",
   "metadata": {
    "ExecuteTime": {
     "end_time": "2022-03-04T06:45:02.901850Z",
     "start_time": "2022-03-04T06:45:02.883901Z"
    }
   },
   "outputs": [
    {
     "name": "stdout",
     "output_type": "stream",
     "text": [
      "(1632, 100)\n",
      "(1632,)\n"
     ]
    },
    {
     "data": {
      "text/plain": [
       "(None, None)"
      ]
     },
     "execution_count": 18,
     "metadata": {},
     "output_type": "execute_result"
    }
   ],
   "source": [
    "print(X_train.shape), print(y_train.shape)"
   ]
  },
  {
   "cell_type": "code",
   "execution_count": 19,
   "id": "6aa1fbe0",
   "metadata": {
    "ExecuteTime": {
     "end_time": "2022-03-04T06:45:26.428183Z",
     "start_time": "2022-03-04T06:45:26.418247Z"
    }
   },
   "outputs": [
    {
     "name": "stdout",
     "output_type": "stream",
     "text": [
      "(643, 100)\n",
      "(643,)\n"
     ]
    },
    {
     "data": {
      "text/plain": [
       "(None, None)"
      ]
     },
     "execution_count": 19,
     "metadata": {},
     "output_type": "execute_result"
    }
   ],
   "source": [
    "print(X_test.shape), print(y_test.shape)"
   ]
  },
  {
   "cell_type": "code",
   "execution_count": 20,
   "id": "d49b8de3",
   "metadata": {
    "ExecuteTime": {
     "end_time": "2022-03-04T06:45:57.425817Z",
     "start_time": "2022-03-04T06:45:57.413812Z"
    }
   },
   "outputs": [],
   "source": [
    "# reshape input to be [samples, time steps, features] which is required for LSTM\n",
    "\n",
    "X_train =X_train.reshape(X_train.shape[0],X_train.shape[1] , 1)\n",
    "X_test = X_test.reshape(X_test.shape[0],X_test.shape[1] , 1)"
   ]
  },
  {
   "cell_type": "code",
   "execution_count": 21,
   "id": "650ef8a3",
   "metadata": {
    "ExecuteTime": {
     "end_time": "2022-03-04T06:46:33.742546Z",
     "start_time": "2022-03-04T06:46:33.730615Z"
    }
   },
   "outputs": [
    {
     "name": "stdout",
     "output_type": "stream",
     "text": [
      "(1632, 100, 1)\n",
      "(643, 100, 1)\n"
     ]
    },
    {
     "data": {
      "text/plain": [
       "(None, None)"
      ]
     },
     "execution_count": 21,
     "metadata": {},
     "output_type": "execute_result"
    }
   ],
   "source": [
    "print(X_train.shape), print(X_test.shape)"
   ]
  },
  {
   "cell_type": "code",
   "execution_count": 22,
   "id": "429810d7",
   "metadata": {
    "ExecuteTime": {
     "end_time": "2022-03-04T06:47:47.086946Z",
     "start_time": "2022-03-04T06:46:49.802784Z"
    }
   },
   "outputs": [],
   "source": [
    "### Create the Stacked LSTM model\n",
    "\n",
    "from tensorflow.keras.models import Sequential\n",
    "from tensorflow.keras.layers import Dense\n",
    "from tensorflow.keras.layers import LSTM"
   ]
  },
  {
   "cell_type": "code",
   "execution_count": 23,
   "id": "c983725f",
   "metadata": {
    "ExecuteTime": {
     "end_time": "2022-03-04T06:47:55.296011Z",
     "start_time": "2022-03-04T06:47:51.938028Z"
    }
   },
   "outputs": [],
   "source": [
    "model=Sequential()\n",
    "model.add(LSTM(50,return_sequences=True,input_shape=(100,1)))\n",
    "model.add(LSTM(50,return_sequences=True))\n",
    "model.add(LSTM(50))\n",
    "model.add(Dense(1))\n",
    "model.compile(loss='mean_squared_error',optimizer='adam')"
   ]
  },
  {
   "cell_type": "code",
   "execution_count": 24,
   "id": "3a8ba1f1",
   "metadata": {
    "ExecuteTime": {
     "end_time": "2022-03-04T06:48:03.048645Z",
     "start_time": "2022-03-04T06:48:03.028699Z"
    }
   },
   "outputs": [
    {
     "name": "stdout",
     "output_type": "stream",
     "text": [
      "Model: \"sequential\"\n",
      "_________________________________________________________________\n",
      " Layer (type)                Output Shape              Param #   \n",
      "=================================================================\n",
      " lstm (LSTM)                 (None, 100, 50)           10400     \n",
      "                                                                 \n",
      " lstm_1 (LSTM)               (None, 100, 50)           20200     \n",
      "                                                                 \n",
      " lstm_2 (LSTM)               (None, 50)                20200     \n",
      "                                                                 \n",
      " dense (Dense)               (None, 1)                 51        \n",
      "                                                                 \n",
      "=================================================================\n",
      "Total params: 50,851\n",
      "Trainable params: 50,851\n",
      "Non-trainable params: 0\n",
      "_________________________________________________________________\n"
     ]
    }
   ],
   "source": [
    "model.summary()"
   ]
  },
  {
   "cell_type": "code",
   "execution_count": 25,
   "id": "de50a42b",
   "metadata": {
    "ExecuteTime": {
     "end_time": "2022-03-04T07:00:56.252601Z",
     "start_time": "2022-03-04T06:48:39.645204Z"
    }
   },
   "outputs": [
    {
     "name": "stdout",
     "output_type": "stream",
     "text": [
      "Epoch 1/100\n",
      "26/26 [==============================] - 18s 316ms/step - loss: 0.0069 - val_loss: 0.0223\n",
      "Epoch 2/100\n",
      "26/26 [==============================] - 8s 326ms/step - loss: 5.6192e-04 - val_loss: 0.0034\n",
      "Epoch 3/100\n",
      "26/26 [==============================] - 8s 310ms/step - loss: 2.7720e-04 - val_loss: 0.0049\n",
      "Epoch 4/100\n",
      "26/26 [==============================] - 7s 286ms/step - loss: 2.5666e-04 - val_loss: 0.0043\n",
      "Epoch 5/100\n",
      "26/26 [==============================] - 7s 287ms/step - loss: 2.5587e-04 - val_loss: 0.0037\n",
      "Epoch 6/100\n",
      "26/26 [==============================] - 7s 285ms/step - loss: 2.5478e-04 - val_loss: 0.0034\n",
      "Epoch 7/100\n",
      "26/26 [==============================] - 7s 285ms/step - loss: 2.4476e-04 - val_loss: 0.0029\n",
      "Epoch 8/100\n",
      "26/26 [==============================] - 7s 284ms/step - loss: 2.5090e-04 - val_loss: 0.0030\n",
      "Epoch 9/100\n",
      "26/26 [==============================] - 7s 277ms/step - loss: 2.3529e-04 - val_loss: 0.0032\n",
      "Epoch 10/100\n",
      "26/26 [==============================] - 7s 274ms/step - loss: 2.3578e-04 - val_loss: 0.0039\n",
      "Epoch 11/100\n",
      "26/26 [==============================] - 7s 275ms/step - loss: 2.4660e-04 - val_loss: 0.0024\n",
      "Epoch 12/100\n",
      "26/26 [==============================] - 7s 274ms/step - loss: 2.3772e-04 - val_loss: 0.0024\n",
      "Epoch 13/100\n",
      "26/26 [==============================] - 7s 276ms/step - loss: 2.1872e-04 - val_loss: 0.0025\n",
      "Epoch 14/100\n",
      "26/26 [==============================] - 7s 276ms/step - loss: 2.2401e-04 - val_loss: 0.0020\n",
      "Epoch 15/100\n",
      "26/26 [==============================] - 7s 278ms/step - loss: 2.1111e-04 - val_loss: 0.0024\n",
      "Epoch 16/100\n",
      "26/26 [==============================] - 7s 279ms/step - loss: 2.0367e-04 - val_loss: 0.0026\n",
      "Epoch 17/100\n",
      "26/26 [==============================] - 7s 287ms/step - loss: 1.9759e-04 - val_loss: 0.0020\n",
      "Epoch 18/100\n",
      "26/26 [==============================] - 7s 276ms/step - loss: 1.8680e-04 - val_loss: 0.0017\n",
      "Epoch 19/100\n",
      "26/26 [==============================] - 7s 276ms/step - loss: 1.9321e-04 - val_loss: 0.0021\n",
      "Epoch 20/100\n",
      "26/26 [==============================] - 7s 276ms/step - loss: 1.8743e-04 - val_loss: 0.0027\n",
      "Epoch 21/100\n",
      "26/26 [==============================] - 7s 277ms/step - loss: 2.3213e-04 - val_loss: 0.0022\n",
      "Epoch 22/100\n",
      "26/26 [==============================] - 7s 277ms/step - loss: 1.9026e-04 - val_loss: 0.0015\n",
      "Epoch 23/100\n",
      "26/26 [==============================] - 7s 275ms/step - loss: 1.9268e-04 - val_loss: 0.0017\n",
      "Epoch 24/100\n",
      "26/26 [==============================] - 7s 277ms/step - loss: 1.7808e-04 - val_loss: 0.0019\n",
      "Epoch 25/100\n",
      "26/26 [==============================] - 7s 276ms/step - loss: 1.5352e-04 - val_loss: 0.0022\n",
      "Epoch 26/100\n",
      "26/26 [==============================] - 8s 291ms/step - loss: 1.5124e-04 - val_loss: 0.0016\n",
      "Epoch 27/100\n",
      "26/26 [==============================] - 7s 275ms/step - loss: 1.4795e-04 - val_loss: 0.0016\n",
      "Epoch 28/100\n",
      "26/26 [==============================] - 7s 277ms/step - loss: 1.4557e-04 - val_loss: 0.0011\n",
      "Epoch 29/100\n",
      "26/26 [==============================] - 7s 277ms/step - loss: 1.4287e-04 - val_loss: 0.0015\n",
      "Epoch 30/100\n",
      "26/26 [==============================] - 7s 276ms/step - loss: 1.5220e-04 - val_loss: 8.8953e-04\n",
      "Epoch 31/100\n",
      "26/26 [==============================] - 7s 277ms/step - loss: 1.7535e-04 - val_loss: 0.0020\n",
      "Epoch 32/100\n",
      "26/26 [==============================] - 7s 276ms/step - loss: 1.3449e-04 - val_loss: 0.0023\n",
      "Epoch 33/100\n",
      "26/26 [==============================] - 7s 276ms/step - loss: 1.4379e-04 - val_loss: 0.0022\n",
      "Epoch 34/100\n",
      "26/26 [==============================] - 7s 276ms/step - loss: 1.4669e-04 - val_loss: 0.0026\n",
      "Epoch 35/100\n",
      "26/26 [==============================] - 7s 285ms/step - loss: 1.4146e-04 - val_loss: 0.0014\n",
      "Epoch 36/100\n",
      "26/26 [==============================] - 7s 278ms/step - loss: 1.3040e-04 - val_loss: 0.0019\n",
      "Epoch 37/100\n",
      "26/26 [==============================] - 7s 277ms/step - loss: 1.2766e-04 - val_loss: 0.0016\n",
      "Epoch 38/100\n",
      "26/26 [==============================] - 7s 278ms/step - loss: 1.2761e-04 - val_loss: 0.0011\n",
      "Epoch 39/100\n",
      "26/26 [==============================] - 7s 284ms/step - loss: 1.2233e-04 - val_loss: 0.0013\n",
      "Epoch 40/100\n",
      "26/26 [==============================] - 7s 286ms/step - loss: 1.2282e-04 - val_loss: 0.0022\n",
      "Epoch 41/100\n",
      "26/26 [==============================] - 7s 283ms/step - loss: 1.2780e-04 - val_loss: 7.4998e-04\n",
      "Epoch 42/100\n",
      "26/26 [==============================] - 7s 276ms/step - loss: 1.3417e-04 - val_loss: 0.0014\n",
      "Epoch 43/100\n",
      "26/26 [==============================] - 7s 276ms/step - loss: 1.1657e-04 - val_loss: 8.8515e-04\n",
      "Epoch 44/100\n",
      "26/26 [==============================] - 7s 285ms/step - loss: 1.1357e-04 - val_loss: 8.6896e-04\n",
      "Epoch 45/100\n",
      "26/26 [==============================] - 7s 275ms/step - loss: 1.1561e-04 - val_loss: 8.3724e-04\n",
      "Epoch 46/100\n",
      "26/26 [==============================] - 8s 294ms/step - loss: 1.2289e-04 - val_loss: 6.0139e-04\n",
      "Epoch 47/100\n",
      "26/26 [==============================] - 7s 279ms/step - loss: 1.2817e-04 - val_loss: 0.0010\n",
      "Epoch 48/100\n",
      "26/26 [==============================] - 7s 282ms/step - loss: 1.4199e-04 - val_loss: 0.0017\n",
      "Epoch 49/100\n",
      "26/26 [==============================] - 7s 275ms/step - loss: 1.0918e-04 - val_loss: 0.0011\n",
      "Epoch 50/100\n",
      "26/26 [==============================] - 7s 274ms/step - loss: 1.0412e-04 - val_loss: 0.0021\n",
      "Epoch 51/100\n",
      "26/26 [==============================] - 7s 277ms/step - loss: 1.3754e-04 - val_loss: 6.1111e-04\n",
      "Epoch 52/100\n",
      "26/26 [==============================] - 7s 275ms/step - loss: 1.0704e-04 - val_loss: 8.8624e-04\n",
      "Epoch 53/100\n",
      "26/26 [==============================] - 8s 293ms/step - loss: 1.0326e-04 - val_loss: 7.1743e-04\n",
      "Epoch 54/100\n",
      "26/26 [==============================] - 7s 278ms/step - loss: 1.1447e-04 - val_loss: 0.0019\n",
      "Epoch 55/100\n",
      "26/26 [==============================] - 7s 276ms/step - loss: 1.2181e-04 - val_loss: 6.0423e-04\n",
      "Epoch 56/100\n",
      "26/26 [==============================] - 7s 277ms/step - loss: 1.0445e-04 - val_loss: 0.0012\n",
      "Epoch 57/100\n",
      "26/26 [==============================] - 7s 276ms/step - loss: 1.1405e-04 - val_loss: 0.0012\n",
      "Epoch 58/100\n",
      "26/26 [==============================] - 7s 276ms/step - loss: 9.6937e-05 - val_loss: 8.4108e-04\n",
      "Epoch 59/100\n",
      "26/26 [==============================] - 7s 278ms/step - loss: 9.3203e-05 - val_loss: 7.7229e-04\n",
      "Epoch 60/100\n",
      "26/26 [==============================] - 7s 276ms/step - loss: 9.1782e-05 - val_loss: 9.3352e-04\n",
      "Epoch 61/100\n",
      "26/26 [==============================] - 7s 278ms/step - loss: 9.6302e-05 - val_loss: 0.0013\n",
      "Epoch 62/100\n",
      "26/26 [==============================] - 7s 286ms/step - loss: 1.0654e-04 - val_loss: 0.0012\n",
      "Epoch 63/100\n",
      "26/26 [==============================] - 7s 277ms/step - loss: 1.0575e-04 - val_loss: 7.2185e-04\n",
      "Epoch 64/100\n",
      "26/26 [==============================] - 7s 275ms/step - loss: 9.8619e-05 - val_loss: 0.0011\n",
      "Epoch 65/100\n",
      "26/26 [==============================] - 7s 275ms/step - loss: 9.1719e-05 - val_loss: 8.8672e-04\n",
      "Epoch 66/100\n",
      "26/26 [==============================] - 7s 276ms/step - loss: 8.6959e-05 - val_loss: 7.7556e-04\n",
      "Epoch 67/100\n",
      "26/26 [==============================] - 7s 275ms/step - loss: 9.4014e-05 - val_loss: 0.0011\n",
      "Epoch 68/100\n",
      "26/26 [==============================] - 7s 275ms/step - loss: 8.7318e-05 - val_loss: 7.3961e-04\n",
      "Epoch 69/100\n",
      "26/26 [==============================] - 7s 278ms/step - loss: 1.0238e-04 - val_loss: 4.7470e-04\n",
      "Epoch 70/100\n",
      "26/26 [==============================] - 7s 276ms/step - loss: 9.7643e-05 - val_loss: 9.6577e-04\n",
      "Epoch 71/100\n",
      "26/26 [==============================] - 7s 285ms/step - loss: 8.9308e-05 - val_loss: 8.3392e-04\n",
      "Epoch 72/100\n",
      "26/26 [==============================] - 7s 282ms/step - loss: 7.8922e-05 - val_loss: 8.6272e-04\n",
      "Epoch 73/100\n",
      "26/26 [==============================] - 7s 276ms/step - loss: 7.8248e-05 - val_loss: 6.5101e-04\n",
      "Epoch 74/100\n",
      "26/26 [==============================] - 7s 275ms/step - loss: 7.8177e-05 - val_loss: 4.5248e-04\n",
      "Epoch 75/100\n",
      "26/26 [==============================] - 7s 275ms/step - loss: 7.6271e-05 - val_loss: 3.2462e-04\n",
      "Epoch 76/100\n",
      "26/26 [==============================] - 7s 276ms/step - loss: 7.7018e-05 - val_loss: 5.4194e-04\n",
      "Epoch 77/100\n",
      "26/26 [==============================] - 7s 273ms/step - loss: 7.5543e-05 - val_loss: 6.0029e-04\n",
      "Epoch 78/100\n",
      "26/26 [==============================] - 7s 275ms/step - loss: 8.3912e-05 - val_loss: 8.3779e-04\n",
      "Epoch 79/100\n",
      "26/26 [==============================] - 7s 274ms/step - loss: 7.6003e-05 - val_loss: 0.0011-0\n",
      "Epoch 80/100\n",
      "26/26 [==============================] - 7s 283ms/step - loss: 7.8221e-05 - val_loss: 5.2363e-04\n",
      "Epoch 81/100\n",
      "26/26 [==============================] - 7s 278ms/step - loss: 7.4540e-05 - val_loss: 4.4069e-04\n",
      "Epoch 82/100\n",
      "26/26 [==============================] - 7s 272ms/step - loss: 7.0763e-05 - val_loss: 5.1219e-04\n",
      "Epoch 83/100\n",
      "26/26 [==============================] - 7s 272ms/step - loss: 7.1555e-05 - val_loss: 7.2140e-04\n",
      "Epoch 84/100\n",
      "26/26 [==============================] - 7s 275ms/step - loss: 6.6218e-05 - val_loss: 5.9698e-04\n",
      "Epoch 85/100\n",
      "26/26 [==============================] - 7s 273ms/step - loss: 6.7239e-05 - val_loss: 3.8334e-04\n",
      "Epoch 86/100\n",
      "26/26 [==============================] - 7s 276ms/step - loss: 6.4585e-05 - val_loss: 3.6778e-04\n",
      "Epoch 87/100\n",
      "26/26 [==============================] - 7s 274ms/step - loss: 6.9257e-05 - val_loss: 3.0215e-04\n",
      "Epoch 88/100\n",
      "26/26 [==============================] - 7s 272ms/step - loss: 6.4805e-05 - val_loss: 3.5473e-04\n",
      "Epoch 89/100\n",
      "26/26 [==============================] - 7s 280ms/step - loss: 9.9741e-05 - val_loss: 4.6726e-04\n",
      "Epoch 90/100\n",
      "26/26 [==============================] - 8s 295ms/step - loss: 6.2221e-05 - val_loss: 6.3322e-04\n",
      "Epoch 91/100\n",
      "26/26 [==============================] - 7s 272ms/step - loss: 5.8725e-05 - val_loss: 4.6201e-04\n",
      "Epoch 92/100\n",
      "26/26 [==============================] - 7s 274ms/step - loss: 5.8571e-05 - val_loss: 4.5538e-04\n",
      "Epoch 93/100\n",
      "26/26 [==============================] - 7s 276ms/step - loss: 5.7410e-05 - val_loss: 9.2319e-04\n",
      "Epoch 94/100\n",
      "26/26 [==============================] - 7s 275ms/step - loss: 6.3677e-05 - val_loss: 3.3445e-04\n",
      "Epoch 95/100\n",
      "26/26 [==============================] - 7s 273ms/step - loss: 7.1104e-05 - val_loss: 8.4709e-04\n",
      "Epoch 96/100\n",
      "26/26 [==============================] - 7s 275ms/step - loss: 6.4897e-05 - val_loss: 4.3956e-04\n",
      "Epoch 97/100\n",
      "26/26 [==============================] - 7s 275ms/step - loss: 8.4055e-05 - val_loss: 3.6551e-04\n",
      "Epoch 98/100\n",
      "26/26 [==============================] - 7s 274ms/step - loss: 9.0434e-05 - val_loss: 6.2388e-04\n",
      "Epoch 99/100\n",
      "26/26 [==============================] - 7s 284ms/step - loss: 6.5335e-05 - val_loss: 4.0368e-04\n",
      "Epoch 100/100\n",
      "26/26 [==============================] - 7s 274ms/step - loss: 6.2220e-05 - val_loss: 0.0010\n"
     ]
    },
    {
     "data": {
      "text/plain": [
       "<keras.callbacks.History at 0x1517fcb9820>"
      ]
     },
     "execution_count": 25,
     "metadata": {},
     "output_type": "execute_result"
    }
   ],
   "source": [
    "model.fit(X_train,y_train,validation_data=(X_test,y_test),epochs=100,batch_size=64,verbose=1)"
   ]
  },
  {
   "cell_type": "code",
   "execution_count": 26,
   "id": "853c123e",
   "metadata": {
    "ExecuteTime": {
     "end_time": "2022-03-04T07:26:20.416139Z",
     "start_time": "2022-03-04T07:26:20.400183Z"
    }
   },
   "outputs": [],
   "source": [
    "import tensorflow as tf"
   ]
  },
  {
   "cell_type": "code",
   "execution_count": 27,
   "id": "1f89135e",
   "metadata": {
    "ExecuteTime": {
     "end_time": "2022-03-04T07:28:50.675298Z",
     "start_time": "2022-03-04T07:28:46.253994Z"
    }
   },
   "outputs": [],
   "source": [
    "### Lets Do the prediction and check performance metrics\n",
    "\n",
    "train_predict=model.predict(X_train)\n",
    "test_predict=model.predict(X_test)"
   ]
  },
  {
   "cell_type": "code",
   "execution_count": 28,
   "id": "b224c505",
   "metadata": {
    "ExecuteTime": {
     "end_time": "2022-03-04T07:29:01.117252Z",
     "start_time": "2022-03-04T07:29:01.104289Z"
    }
   },
   "outputs": [],
   "source": [
    "##Transformback to original form\n",
    "\n",
    "train_predict=scaler.inverse_transform(train_predict)\n",
    "test_predict=scaler.inverse_transform(test_predict)"
   ]
  },
  {
   "cell_type": "code",
   "execution_count": 29,
   "id": "e8182f0e",
   "metadata": {
    "ExecuteTime": {
     "end_time": "2022-03-04T07:29:11.398031Z",
     "start_time": "2022-03-04T07:29:10.646346Z"
    }
   },
   "outputs": [
    {
     "data": {
      "text/plain": [
       "8330.593486938737"
      ]
     },
     "execution_count": 29,
     "metadata": {},
     "output_type": "execute_result"
    }
   ],
   "source": [
    "### Calculate RMSE performance metrics\n",
    "\n",
    "import math\n",
    "from sklearn.metrics import mean_squared_error\n",
    "math.sqrt(mean_squared_error(y_train,train_predict))"
   ]
  },
  {
   "cell_type": "code",
   "execution_count": 31,
   "id": "3f498507",
   "metadata": {
    "ExecuteTime": {
     "end_time": "2022-03-04T07:29:36.594072Z",
     "start_time": "2022-03-04T07:29:36.578465Z"
    }
   },
   "outputs": [
    {
     "data": {
      "text/plain": [
       "13406.32943343108"
      ]
     },
     "execution_count": 31,
     "metadata": {},
     "output_type": "execute_result"
    }
   ],
   "source": [
    "### Test Data RMSE\n",
    "\n",
    "math.sqrt(mean_squared_error(y_test,test_predict))"
   ]
  },
  {
   "cell_type": "code",
   "execution_count": 34,
   "id": "920c61e9",
   "metadata": {
    "ExecuteTime": {
     "end_time": "2022-03-04T07:30:31.219483Z",
     "start_time": "2022-03-04T07:30:31.085768Z"
    }
   },
   "outputs": [
    {
     "data": {
      "image/png": "[encoded data removed]",
      "text/plain": [
       "<Figure size 432x288 with 1 Axes>"
      ]
     },
     "metadata": {
      "needs_background": "light"
     },
     "output_type": "display_data"
    }
   ],
   "source": [
    "### Plotting \n",
    "\n",
    "# shift train predictions for plotting\n",
    "look_back=100\n",
    "trainPredictPlot = np.empty_like(df)\n",
    "trainPredictPlot[:, :] = np.nan\n",
    "trainPredictPlot[look_back:len(train_predict)+look_back, :] = train_predict\n",
    "\n",
    "# shift test predictions for plotting\n",
    "testPredictPlot = np.empty_like(df)\n",
    "testPredictPlot[:, :] = np.nan\n",
    "testPredictPlot[len(train_predict)+(look_back*2)+1:len(df)-1, :] = test_predict\n",
    "\n",
    "# plot baseline and predictions\n",
    "plt.plot(scaler.inverse_transform(df))\n",
    "plt.plot(trainPredictPlot)\n",
    "plt.plot(testPredictPlot)\n",
    "plt.show()"
   ]
  },
  {
   "cell_type": "code",
   "execution_count": 35,
   "id": "5ae9a2d3",
   "metadata": {
    "ExecuteTime": {
     "end_time": "2022-03-04T07:30:47.958327Z",
     "start_time": "2022-03-04T07:30:47.942369Z"
    }
   },
   "outputs": [
    {
     "data": {
      "text/plain": [
       "744"
      ]
     },
     "execution_count": 35,
     "metadata": {},
     "output_type": "execute_result"
    }
   ],
   "source": [
    "len(test_data)"
   ]
  },
  {
   "cell_type": "code",
   "execution_count": 36,
   "id": "ded70325",
   "metadata": {
    "ExecuteTime": {
     "end_time": "2022-03-04T07:30:49.917341Z",
     "start_time": "2022-03-04T07:30:49.900388Z"
    }
   },
   "outputs": [
    {
     "data": {
      "text/plain": [
       "(1, 100)"
      ]
     },
     "execution_count": 36,
     "metadata": {},
     "output_type": "execute_result"
    }
   ],
   "source": [
    "x_input=test_data[644:].reshape(1,-1)\n",
    "x_input.shape"
   ]
  },
  {
   "cell_type": "code",
   "execution_count": 37,
   "id": "6835dbf8",
   "metadata": {
    "ExecuteTime": {
     "end_time": "2022-03-04T07:30:57.892859Z",
     "start_time": "2022-03-04T07:30:57.886874Z"
    }
   },
   "outputs": [],
   "source": [
    "temp_input=list(x_input)\n",
    "temp_input=temp_input[0].tolist()"
   ]
  },
  {
   "cell_type": "code",
   "execution_count": 38,
   "id": "1c0f5514",
   "metadata": {
    "ExecuteTime": {
     "end_time": "2022-03-04T07:30:58.887855Z",
     "start_time": "2022-03-04T07:30:58.879875Z"
    }
   },
   "outputs": [
    {
     "data": {
      "text/plain": [
       "[0.9390788335508086,\n",
       " 0.9496605920213467,\n",
       " 0.9573467532657939,\n",
       " 0.9610670459043794,\n",
       " 0.9644391338132451,\n",
       " 0.9768865365724927,\n",
       " 0.9898470831439589,\n",
       " 1.0,\n",
       " 0.9957262451068073,\n",
       " 0.9845726978169397,\n",
       " 0.9780850939053175,\n",
       " 0.973452138343572,\n",
       " 0.9742218540619,\n",
       " 0.9847046490829389,\n",
       " 0.9804932045098013,\n",
       " 0.9545647807409797,\n",
       " 0.9409591390912958,\n",
       " 0.9598721538844989,\n",
       " 0.9568885891477416,\n",
       " 0.9525085401791605,\n",
       " 0.958930168457783,\n",
       " 0.9700543932440951,\n",
       " 0.9682730511531076,\n",
       " 0.9662901168501769,\n",
       " 0.9557633380738048,\n",
       " 0.9725614672980779,\n",
       " 0.9730526192326302,\n",
       " 0.9649706041901859,\n",
       " 0.957599659858959,\n",
       " 0.9477876171067486,\n",
       " 0.9222587124488689,\n",
       " 0.9286216957203807,\n",
       " 0.9221487530605362,\n",
       " 0.9310334716378085,\n",
       " 0.8936619408565104,\n",
       " 0.8956778629759411,\n",
       " 0.8904914451595879,\n",
       " 0.9039578049173841,\n",
       " 0.9211664491914321,\n",
       " 0.9061423314322578,\n",
       " 0.885290366091457,\n",
       " 0.9046762062544901,\n",
       " 0.9261586054217309,\n",
       " 0.9296113302153738,\n",
       " 0.9292044804785432,\n",
       " 0.91871802014456,\n",
       " 0.9155401938217488,\n",
       " 0.907952996026801,\n",
       " 0.9099322650167873,\n",
       " 0.8906380576773646,\n",
       " 0.8634414356297743,\n",
       " 0.8749248610846393,\n",
       " 0.8884571964754352,\n",
       " 0.8970450247042091,\n",
       " 0.8919978887797441,\n",
       " 0.8980456551380357,\n",
       " 0.9088216751946282,\n",
       " 0.9073812072074713,\n",
       " 0.9066738018091985,\n",
       " 0.917677071268345,\n",
       " 0.9375907164953744,\n",
       " 0.9507528552787837,\n",
       " 0.9595496063453898,\n",
       " 0.9464021288137584,\n",
       " 0.9512989869075023,\n",
       " 0.9652711598516283,\n",
       " 0.969116073130324,\n",
       " 0.9805958332722448,\n",
       " 0.9839276027387219,\n",
       " 0.9837773249080007,\n",
       " 0.9876149075608075,\n",
       " 0.9733165217646284,\n",
       " 0.9605135836497721,\n",
       " 0.9472158282874193,\n",
       " 0.9369639479818789,\n",
       " 0.9026529535091706,\n",
       " 0.9120984649669389,\n",
       " 0.8997976747254682,\n",
       " 0.8991965634025835,\n",
       " 0.9166361223921299,\n",
       " 0.9340097057486768,\n",
       " 0.9489018722418522,\n",
       " 0.9327891565381853,\n",
       " 0.9295710117729853,\n",
       " 0.9073812072074713,\n",
       " 0.911277434867389,\n",
       " 0.9257224331813451,\n",
       " 0.93613558725644,\n",
       " 0.9191945108273346,\n",
       " 0.8801992464116587,\n",
       " 0.9175597812541235,\n",
       " 0.9153422669227499,\n",
       " 0.9140520767663142,\n",
       " 0.911977509639773,\n",
       " 0.9068717287081972,\n",
       " 0.8984818273784217,\n",
       " 0.8963596111836029,\n",
       " 0.8365930183119036,\n",
       " 0.8666815722726408,\n",
       " 0.8766145703520168]"
      ]
     },
     "execution_count": 38,
     "metadata": {},
     "output_type": "execute_result"
    }
   ],
   "source": [
    "temp_input"
   ]
  },
  {
   "cell_type": "code",
   "execution_count": 39,
   "id": "a4700cdf",
   "metadata": {
    "ExecuteTime": {
     "end_time": "2022-03-04T07:31:21.103972Z",
     "start_time": "2022-03-04T07:31:19.536066Z"
    }
   },
   "outputs": [
    {
     "name": "stdout",
     "output_type": "stream",
     "text": [
      "[0.8271271]\n",
      "101\n",
      "1 day input [0.94966059 0.95734675 0.96106705 0.96443913 0.97688654 0.98984708\n",
      " 1.         0.99572625 0.9845727  0.97808509 0.97345214 0.97422185\n",
      " 0.98470465 0.9804932  0.95456478 0.94095914 0.95987215 0.95688859\n",
      " 0.95250854 0.95893017 0.97005439 0.96827305 0.96629012 0.95576334\n",
      " 0.97256147 0.97305262 0.9649706  0.95759966 0.94778762 0.92225871\n",
      " 0.9286217  0.92214875 0.93103347 0.89366194 0.89567786 0.89049145\n",
      " 0.9039578  0.92116645 0.90614233 0.88529037 0.90467621 0.92615861\n",
      " 0.92961133 0.92920448 0.91871802 0.91554019 0.907953   0.90993227\n",
      " 0.89063806 0.86344144 0.87492486 0.8884572  0.89704502 0.89199789\n",
      " 0.89804566 0.90882168 0.90738121 0.9066738  0.91767707 0.93759072\n",
      " 0.95075286 0.95954961 0.94640213 0.95129899 0.96527116 0.96911607\n",
      " 0.98059583 0.9839276  0.98377732 0.98761491 0.97331652 0.96051358\n",
      " 0.94721583 0.93696395 0.90265295 0.91209846 0.89979767 0.89919656\n",
      " 0.91663612 0.93400971 0.94890187 0.93278916 0.92957101 0.90738121\n",
      " 0.91127743 0.92572243 0.93613559 0.91919451 0.88019925 0.91755978\n",
      " 0.91534227 0.91405208 0.91197751 0.90687173 0.89848183 0.89635961\n",
      " 0.83659302 0.86668157 0.87661457 0.8271271 ]\n",
      "1 day output [[0.81016463]]\n",
      "2 day input [0.95734675 0.96106705 0.96443913 0.97688654 0.98984708 1.\n",
      " 0.99572625 0.9845727  0.97808509 0.97345214 0.97422185 0.98470465\n",
      " 0.9804932  0.95456478 0.94095914 0.95987215 0.95688859 0.95250854\n",
      " 0.95893017 0.97005439 0.96827305 0.96629012 0.95576334 0.97256147\n",
      " 0.97305262 0.9649706  0.95759966 0.94778762 0.92225871 0.9286217\n",
      " 0.92214875 0.93103347 0.89366194 0.89567786 0.89049145 0.9039578\n",
      " 0.92116645 0.90614233 0.88529037 0.90467621 0.92615861 0.92961133\n",
      " 0.92920448 0.91871802 0.91554019 0.907953   0.90993227 0.89063806\n",
      " 0.86344144 0.87492486 0.8884572  0.89704502 0.89199789 0.89804566\n",
      " 0.90882168 0.90738121 0.9066738  0.91767707 0.93759072 0.95075286\n",
      " 0.95954961 0.94640213 0.95129899 0.96527116 0.96911607 0.98059583\n",
      " 0.9839276  0.98377732 0.98761491 0.97331652 0.96051358 0.94721583\n",
      " 0.93696395 0.90265295 0.91209846 0.89979767 0.89919656 0.91663612\n",
      " 0.93400971 0.94890187 0.93278916 0.92957101 0.90738121 0.91127743\n",
      " 0.92572243 0.93613559 0.91919451 0.88019925 0.91755978 0.91534227\n",
      " 0.91405208 0.91197751 0.90687173 0.89848183 0.89635961 0.83659302\n",
      " 0.86668157 0.87661457 0.8271271  0.81016463]\n",
      "2 day output [[0.7872339]]\n",
      "3 day input [0.96106705 0.96443913 0.97688654 0.98984708 1.         0.99572625\n",
      " 0.9845727  0.97808509 0.97345214 0.97422185 0.98470465 0.9804932\n",
      " 0.95456478 0.94095914 0.95987215 0.95688859 0.95250854 0.95893017\n",
      " 0.97005439 0.96827305 0.96629012 0.95576334 0.97256147 0.97305262\n",
      " 0.9649706  0.95759966 0.94778762 0.92225871 0.9286217  0.92214875\n",
      " 0.93103347 0.89366194 0.89567786 0.89049145 0.9039578  0.92116645\n",
      " 0.90614233 0.88529037 0.90467621 0.92615861 0.92961133 0.92920448\n",
      " 0.91871802 0.91554019 0.907953   0.90993227 0.89063806 0.86344144\n",
      " 0.87492486 0.8884572  0.89704502 0.89199789 0.89804566 0.90882168\n",
      " 0.90738121 0.9066738  0.91767707 0.93759072 0.95075286 0.95954961\n",
      " 0.94640213 0.95129899 0.96527116 0.96911607 0.98059583 0.9839276\n",
      " 0.98377732 0.98761491 0.97331652 0.96051358 0.94721583 0.93696395\n",
      " 0.90265295 0.91209846 0.89979767 0.89919656 0.91663612 0.93400971\n",
      " 0.94890187 0.93278916 0.92957101 0.90738121 0.91127743 0.92572243\n",
      " 0.93613559 0.91919451 0.88019925 0.91755978 0.91534227 0.91405208\n",
      " 0.91197751 0.90687173 0.89848183 0.89635961 0.83659302 0.86668157\n",
      " 0.87661457 0.8271271  0.81016463 0.78723389]\n",
      "3 day output [[0.7651801]]\n",
      "4 day input [0.96443913 0.97688654 0.98984708 1.         0.99572625 0.9845727\n",
      " 0.97808509 0.97345214 0.97422185 0.98470465 0.9804932  0.95456478\n",
      " 0.94095914 0.95987215 0.95688859 0.95250854 0.95893017 0.97005439\n",
      " 0.96827305 0.96629012 0.95576334 0.97256147 0.97305262 0.9649706\n",
      " 0.95759966 0.94778762 0.92225871 0.9286217  0.92214875 0.93103347\n",
      " 0.89366194 0.89567786 0.89049145 0.9039578  0.92116645 0.90614233\n",
      " 0.88529037 0.90467621 0.92615861 0.92961133 0.92920448 0.91871802\n",
      " 0.91554019 0.907953   0.90993227 0.89063806 0.86344144 0.87492486\n",
      " 0.8884572  0.89704502 0.89199789 0.89804566 0.90882168 0.90738121\n",
      " 0.9066738  0.91767707 0.93759072 0.95075286 0.95954961 0.94640213\n",
      " 0.95129899 0.96527116 0.96911607 0.98059583 0.9839276  0.98377732\n",
      " 0.98761491 0.97331652 0.96051358 0.94721583 0.93696395 0.90265295\n",
      " 0.91209846 0.89979767 0.89919656 0.91663612 0.93400971 0.94890187\n",
      " 0.93278916 0.92957101 0.90738121 0.91127743 0.92572243 0.93613559\n",
      " 0.91919451 0.88019925 0.91755978 0.91534227 0.91405208 0.91197751\n",
      " 0.90687173 0.89848183 0.89635961 0.83659302 0.86668157 0.87661457\n",
      " 0.8271271  0.81016463 0.78723389 0.76518011]\n",
      "4 day output [[0.74513084]]\n",
      "5 day input [0.97688654 0.98984708 1.         0.99572625 0.9845727  0.97808509\n",
      " 0.97345214 0.97422185 0.98470465 0.9804932  0.95456478 0.94095914\n",
      " 0.95987215 0.95688859 0.95250854 0.95893017 0.97005439 0.96827305\n",
      " 0.96629012 0.95576334 0.97256147 0.97305262 0.9649706  0.95759966\n",
      " 0.94778762 0.92225871 0.9286217  0.92214875 0.93103347 0.89366194\n",
      " 0.89567786 0.89049145 0.9039578  0.92116645 0.90614233 0.88529037\n",
      " 0.90467621 0.92615861 0.92961133 0.92920448 0.91871802 0.91554019\n",
      " 0.907953   0.90993227 0.89063806 0.86344144 0.87492486 0.8884572\n",
      " 0.89704502 0.89199789 0.89804566 0.90882168 0.90738121 0.9066738\n",
      " 0.91767707 0.93759072 0.95075286 0.95954961 0.94640213 0.95129899\n",
      " 0.96527116 0.96911607 0.98059583 0.9839276  0.98377732 0.98761491\n",
      " 0.97331652 0.96051358 0.94721583 0.93696395 0.90265295 0.91209846\n",
      " 0.89979767 0.89919656 0.91663612 0.93400971 0.94890187 0.93278916\n",
      " 0.92957101 0.90738121 0.91127743 0.92572243 0.93613559 0.91919451\n",
      " 0.88019925 0.91755978 0.91534227 0.91405208 0.91197751 0.90687173\n",
      " 0.89848183 0.89635961 0.83659302 0.86668157 0.87661457 0.8271271\n",
      " 0.81016463 0.78723389 0.76518011 0.74513084]\n",
      "5 day output [[0.72722393]]\n",
      "6 day input [0.98984708 1.         0.99572625 0.9845727  0.97808509 0.97345214\n",
      " 0.97422185 0.98470465 0.9804932  0.95456478 0.94095914 0.95987215\n",
      " 0.95688859 0.95250854 0.95893017 0.97005439 0.96827305 0.96629012\n",
      " 0.95576334 0.97256147 0.97305262 0.9649706  0.95759966 0.94778762\n",
      " 0.92225871 0.9286217  0.92214875 0.93103347 0.89366194 0.89567786\n",
      " 0.89049145 0.9039578  0.92116645 0.90614233 0.88529037 0.90467621\n",
      " 0.92615861 0.92961133 0.92920448 0.91871802 0.91554019 0.907953\n",
      " 0.90993227 0.89063806 0.86344144 0.87492486 0.8884572  0.89704502\n",
      " 0.89199789 0.89804566 0.90882168 0.90738121 0.9066738  0.91767707\n",
      " 0.93759072 0.95075286 0.95954961 0.94640213 0.95129899 0.96527116\n",
      " 0.96911607 0.98059583 0.9839276  0.98377732 0.98761491 0.97331652\n",
      " 0.96051358 0.94721583 0.93696395 0.90265295 0.91209846 0.89979767\n",
      " 0.89919656 0.91663612 0.93400971 0.94890187 0.93278916 0.92957101\n",
      " 0.90738121 0.91127743 0.92572243 0.93613559 0.91919451 0.88019925\n",
      " 0.91755978 0.91534227 0.91405208 0.91197751 0.90687173 0.89848183\n",
      " 0.89635961 0.83659302 0.86668157 0.87661457 0.8271271  0.81016463\n",
      " 0.78723389 0.76518011 0.74513084 0.72722393]\n",
      "6 day output [[0.7112355]]\n",
      "7 day input [1.         0.99572625 0.9845727  0.97808509 0.97345214 0.97422185\n",
      " 0.98470465 0.9804932  0.95456478 0.94095914 0.95987215 0.95688859\n",
      " 0.95250854 0.95893017 0.97005439 0.96827305 0.96629012 0.95576334\n",
      " 0.97256147 0.97305262 0.9649706  0.95759966 0.94778762 0.92225871\n",
      " 0.9286217  0.92214875 0.93103347 0.89366194 0.89567786 0.89049145\n",
      " 0.9039578  0.92116645 0.90614233 0.88529037 0.90467621 0.92615861\n",
      " 0.92961133 0.92920448 0.91871802 0.91554019 0.907953   0.90993227\n",
      " 0.89063806 0.86344144 0.87492486 0.8884572  0.89704502 0.89199789\n",
      " 0.89804566 0.90882168 0.90738121 0.9066738  0.91767707 0.93759072\n",
      " 0.95075286 0.95954961 0.94640213 0.95129899 0.96527116 0.96911607\n",
      " 0.98059583 0.9839276  0.98377732 0.98761491 0.97331652 0.96051358\n",
      " 0.94721583 0.93696395 0.90265295 0.91209846 0.89979767 0.89919656\n",
      " 0.91663612 0.93400971 0.94890187 0.93278916 0.92957101 0.90738121\n",
      " 0.91127743 0.92572243 0.93613559 0.91919451 0.88019925 0.91755978\n",
      " 0.91534227 0.91405208 0.91197751 0.90687173 0.89848183 0.89635961\n",
      " 0.83659302 0.86668157 0.87661457 0.8271271  0.81016463 0.78723389\n",
      " 0.76518011 0.74513084 0.72722393 0.71123552]\n",
      "7 day output [[0.69671506]]\n",
      "8 day input [0.99572625 0.9845727  0.97808509 0.97345214 0.97422185 0.98470465\n",
      " 0.9804932  0.95456478 0.94095914 0.95987215 0.95688859 0.95250854\n",
      " 0.95893017 0.97005439 0.96827305 0.96629012 0.95576334 0.97256147\n",
      " 0.97305262 0.9649706  0.95759966 0.94778762 0.92225871 0.9286217\n",
      " 0.92214875 0.93103347 0.89366194 0.89567786 0.89049145 0.9039578\n",
      " 0.92116645 0.90614233 0.88529037 0.90467621 0.92615861 0.92961133\n",
      " 0.92920448 0.91871802 0.91554019 0.907953   0.90993227 0.89063806\n",
      " 0.86344144 0.87492486 0.8884572  0.89704502 0.89199789 0.89804566\n",
      " 0.90882168 0.90738121 0.9066738  0.91767707 0.93759072 0.95075286\n",
      " 0.95954961 0.94640213 0.95129899 0.96527116 0.96911607 0.98059583\n",
      " 0.9839276  0.98377732 0.98761491 0.97331652 0.96051358 0.94721583\n",
      " 0.93696395 0.90265295 0.91209846 0.89979767 0.89919656 0.91663612\n",
      " 0.93400971 0.94890187 0.93278916 0.92957101 0.90738121 0.91127743\n",
      " 0.92572243 0.93613559 0.91919451 0.88019925 0.91755978 0.91534227\n",
      " 0.91405208 0.91197751 0.90687173 0.89848183 0.89635961 0.83659302\n",
      " 0.86668157 0.87661457 0.8271271  0.81016463 0.78723389 0.76518011\n",
      " 0.74513084 0.72722393 0.71123552 0.69671506]\n",
      "8 day output [[0.68312514]]\n",
      "9 day input [0.9845727  0.97808509 0.97345214 0.97422185 0.98470465 0.9804932\n",
      " 0.95456478 0.94095914 0.95987215 0.95688859 0.95250854 0.95893017\n",
      " 0.97005439 0.96827305 0.96629012 0.95576334 0.97256147 0.97305262\n",
      " 0.9649706  0.95759966 0.94778762 0.92225871 0.9286217  0.92214875\n",
      " 0.93103347 0.89366194 0.89567786 0.89049145 0.9039578  0.92116645\n",
      " 0.90614233 0.88529037 0.90467621 0.92615861 0.92961133 0.92920448\n",
      " 0.91871802 0.91554019 0.907953   0.90993227 0.89063806 0.86344144\n",
      " 0.87492486 0.8884572  0.89704502 0.89199789 0.89804566 0.90882168\n",
      " 0.90738121 0.9066738  0.91767707 0.93759072 0.95075286 0.95954961\n",
      " 0.94640213 0.95129899 0.96527116 0.96911607 0.98059583 0.9839276\n",
      " 0.98377732 0.98761491 0.97331652 0.96051358 0.94721583 0.93696395\n",
      " 0.90265295 0.91209846 0.89979767 0.89919656 0.91663612 0.93400971\n",
      " 0.94890187 0.93278916 0.92957101 0.90738121 0.91127743 0.92572243\n",
      " 0.93613559 0.91919451 0.88019925 0.91755978 0.91534227 0.91405208\n",
      " 0.91197751 0.90687173 0.89848183 0.89635961 0.83659302 0.86668157\n",
      " 0.87661457 0.8271271  0.81016463 0.78723389 0.76518011 0.74513084\n",
      " 0.72722393 0.71123552 0.69671506 0.68312514]\n"
     ]
    },
    {
     "name": "stdout",
     "output_type": "stream",
     "text": [
      "9 day output [[0.6699565]]\n",
      "10 day input [0.97808509 0.97345214 0.97422185 0.98470465 0.9804932  0.95456478\n",
      " 0.94095914 0.95987215 0.95688859 0.95250854 0.95893017 0.97005439\n",
      " 0.96827305 0.96629012 0.95576334 0.97256147 0.97305262 0.9649706\n",
      " 0.95759966 0.94778762 0.92225871 0.9286217  0.92214875 0.93103347\n",
      " 0.89366194 0.89567786 0.89049145 0.9039578  0.92116645 0.90614233\n",
      " 0.88529037 0.90467621 0.92615861 0.92961133 0.92920448 0.91871802\n",
      " 0.91554019 0.907953   0.90993227 0.89063806 0.86344144 0.87492486\n",
      " 0.8884572  0.89704502 0.89199789 0.89804566 0.90882168 0.90738121\n",
      " 0.9066738  0.91767707 0.93759072 0.95075286 0.95954961 0.94640213\n",
      " 0.95129899 0.96527116 0.96911607 0.98059583 0.9839276  0.98377732\n",
      " 0.98761491 0.97331652 0.96051358 0.94721583 0.93696395 0.90265295\n",
      " 0.91209846 0.89979767 0.89919656 0.91663612 0.93400971 0.94890187\n",
      " 0.93278916 0.92957101 0.90738121 0.91127743 0.92572243 0.93613559\n",
      " 0.91919451 0.88019925 0.91755978 0.91534227 0.91405208 0.91197751\n",
      " 0.90687173 0.89848183 0.89635961 0.83659302 0.86668157 0.87661457\n",
      " 0.8271271  0.81016463 0.78723389 0.76518011 0.74513084 0.72722393\n",
      " 0.71123552 0.69671506 0.68312514 0.66995651]\n",
      "10 day output [[0.6568069]]\n",
      "11 day input [0.97345214 0.97422185 0.98470465 0.9804932  0.95456478 0.94095914\n",
      " 0.95987215 0.95688859 0.95250854 0.95893017 0.97005439 0.96827305\n",
      " 0.96629012 0.95576334 0.97256147 0.97305262 0.9649706  0.95759966\n",
      " 0.94778762 0.92225871 0.9286217  0.92214875 0.93103347 0.89366194\n",
      " 0.89567786 0.89049145 0.9039578  0.92116645 0.90614233 0.88529037\n",
      " 0.90467621 0.92615861 0.92961133 0.92920448 0.91871802 0.91554019\n",
      " 0.907953   0.90993227 0.89063806 0.86344144 0.87492486 0.8884572\n",
      " 0.89704502 0.89199789 0.89804566 0.90882168 0.90738121 0.9066738\n",
      " 0.91767707 0.93759072 0.95075286 0.95954961 0.94640213 0.95129899\n",
      " 0.96527116 0.96911607 0.98059583 0.9839276  0.98377732 0.98761491\n",
      " 0.97331652 0.96051358 0.94721583 0.93696395 0.90265295 0.91209846\n",
      " 0.89979767 0.89919656 0.91663612 0.93400971 0.94890187 0.93278916\n",
      " 0.92957101 0.90738121 0.91127743 0.92572243 0.93613559 0.91919451\n",
      " 0.88019925 0.91755978 0.91534227 0.91405208 0.91197751 0.90687173\n",
      " 0.89848183 0.89635961 0.83659302 0.86668157 0.87661457 0.8271271\n",
      " 0.81016463 0.78723389 0.76518011 0.74513084 0.72722393 0.71123552\n",
      " 0.69671506 0.68312514 0.66995651 0.65680689]\n",
      "11 day output [[0.643423]]\n",
      "12 day input [0.97422185 0.98470465 0.9804932  0.95456478 0.94095914 0.95987215\n",
      " 0.95688859 0.95250854 0.95893017 0.97005439 0.96827305 0.96629012\n",
      " 0.95576334 0.97256147 0.97305262 0.9649706  0.95759966 0.94778762\n",
      " 0.92225871 0.9286217  0.92214875 0.93103347 0.89366194 0.89567786\n",
      " 0.89049145 0.9039578  0.92116645 0.90614233 0.88529037 0.90467621\n",
      " 0.92615861 0.92961133 0.92920448 0.91871802 0.91554019 0.907953\n",
      " 0.90993227 0.89063806 0.86344144 0.87492486 0.8884572  0.89704502\n",
      " 0.89199789 0.89804566 0.90882168 0.90738121 0.9066738  0.91767707\n",
      " 0.93759072 0.95075286 0.95954961 0.94640213 0.95129899 0.96527116\n",
      " 0.96911607 0.98059583 0.9839276  0.98377732 0.98761491 0.97331652\n",
      " 0.96051358 0.94721583 0.93696395 0.90265295 0.91209846 0.89979767\n",
      " 0.89919656 0.91663612 0.93400971 0.94890187 0.93278916 0.92957101\n",
      " 0.90738121 0.91127743 0.92572243 0.93613559 0.91919451 0.88019925\n",
      " 0.91755978 0.91534227 0.91405208 0.91197751 0.90687173 0.89848183\n",
      " 0.89635961 0.83659302 0.86668157 0.87661457 0.8271271  0.81016463\n",
      " 0.78723389 0.76518011 0.74513084 0.72722393 0.71123552 0.69671506\n",
      " 0.68312514 0.66995651 0.65680689 0.64342302]\n",
      "12 day output [[0.6297055]]\n",
      "13 day input [0.98470465 0.9804932  0.95456478 0.94095914 0.95987215 0.95688859\n",
      " 0.95250854 0.95893017 0.97005439 0.96827305 0.96629012 0.95576334\n",
      " 0.97256147 0.97305262 0.9649706  0.95759966 0.94778762 0.92225871\n",
      " 0.9286217  0.92214875 0.93103347 0.89366194 0.89567786 0.89049145\n",
      " 0.9039578  0.92116645 0.90614233 0.88529037 0.90467621 0.92615861\n",
      " 0.92961133 0.92920448 0.91871802 0.91554019 0.907953   0.90993227\n",
      " 0.89063806 0.86344144 0.87492486 0.8884572  0.89704502 0.89199789\n",
      " 0.89804566 0.90882168 0.90738121 0.9066738  0.91767707 0.93759072\n",
      " 0.95075286 0.95954961 0.94640213 0.95129899 0.96527116 0.96911607\n",
      " 0.98059583 0.9839276  0.98377732 0.98761491 0.97331652 0.96051358\n",
      " 0.94721583 0.93696395 0.90265295 0.91209846 0.89979767 0.89919656\n",
      " 0.91663612 0.93400971 0.94890187 0.93278916 0.92957101 0.90738121\n",
      " 0.91127743 0.92572243 0.93613559 0.91919451 0.88019925 0.91755978\n",
      " 0.91534227 0.91405208 0.91197751 0.90687173 0.89848183 0.89635961\n",
      " 0.83659302 0.86668157 0.87661457 0.8271271  0.81016463 0.78723389\n",
      " 0.76518011 0.74513084 0.72722393 0.71123552 0.69671506 0.68312514\n",
      " 0.66995651 0.65680689 0.64342302 0.62970549]\n",
      "13 day output [[0.61569154]]\n",
      "14 day input [0.9804932  0.95456478 0.94095914 0.95987215 0.95688859 0.95250854\n",
      " 0.95893017 0.97005439 0.96827305 0.96629012 0.95576334 0.97256147\n",
      " 0.97305262 0.9649706  0.95759966 0.94778762 0.92225871 0.9286217\n",
      " 0.92214875 0.93103347 0.89366194 0.89567786 0.89049145 0.9039578\n",
      " 0.92116645 0.90614233 0.88529037 0.90467621 0.92615861 0.92961133\n",
      " 0.92920448 0.91871802 0.91554019 0.907953   0.90993227 0.89063806\n",
      " 0.86344144 0.87492486 0.8884572  0.89704502 0.89199789 0.89804566\n",
      " 0.90882168 0.90738121 0.9066738  0.91767707 0.93759072 0.95075286\n",
      " 0.95954961 0.94640213 0.95129899 0.96527116 0.96911607 0.98059583\n",
      " 0.9839276  0.98377732 0.98761491 0.97331652 0.96051358 0.94721583\n",
      " 0.93696395 0.90265295 0.91209846 0.89979767 0.89919656 0.91663612\n",
      " 0.93400971 0.94890187 0.93278916 0.92957101 0.90738121 0.91127743\n",
      " 0.92572243 0.93613559 0.91919451 0.88019925 0.91755978 0.91534227\n",
      " 0.91405208 0.91197751 0.90687173 0.89848183 0.89635961 0.83659302\n",
      " 0.86668157 0.87661457 0.8271271  0.81016463 0.78723389 0.76518011\n",
      " 0.74513084 0.72722393 0.71123552 0.69671506 0.68312514 0.66995651\n",
      " 0.65680689 0.64342302 0.62970549 0.61569154]\n",
      "14 day output [[0.60151863]]\n",
      "15 day input [0.95456478 0.94095914 0.95987215 0.95688859 0.95250854 0.95893017\n",
      " 0.97005439 0.96827305 0.96629012 0.95576334 0.97256147 0.97305262\n",
      " 0.9649706  0.95759966 0.94778762 0.92225871 0.9286217  0.92214875\n",
      " 0.93103347 0.89366194 0.89567786 0.89049145 0.9039578  0.92116645\n",
      " 0.90614233 0.88529037 0.90467621 0.92615861 0.92961133 0.92920448\n",
      " 0.91871802 0.91554019 0.907953   0.90993227 0.89063806 0.86344144\n",
      " 0.87492486 0.8884572  0.89704502 0.89199789 0.89804566 0.90882168\n",
      " 0.90738121 0.9066738  0.91767707 0.93759072 0.95075286 0.95954961\n",
      " 0.94640213 0.95129899 0.96527116 0.96911607 0.98059583 0.9839276\n",
      " 0.98377732 0.98761491 0.97331652 0.96051358 0.94721583 0.93696395\n",
      " 0.90265295 0.91209846 0.89979767 0.89919656 0.91663612 0.93400971\n",
      " 0.94890187 0.93278916 0.92957101 0.90738121 0.91127743 0.92572243\n",
      " 0.93613559 0.91919451 0.88019925 0.91755978 0.91534227 0.91405208\n",
      " 0.91197751 0.90687173 0.89848183 0.89635961 0.83659302 0.86668157\n",
      " 0.87661457 0.8271271  0.81016463 0.78723389 0.76518011 0.74513084\n",
      " 0.72722393 0.71123552 0.69671506 0.68312514 0.66995651 0.65680689\n",
      " 0.64342302 0.62970549 0.61569154 0.60151863]\n",
      "15 day output [[0.5873827]]\n",
      "16 day input [0.94095914 0.95987215 0.95688859 0.95250854 0.95893017 0.97005439\n",
      " 0.96827305 0.96629012 0.95576334 0.97256147 0.97305262 0.9649706\n",
      " 0.95759966 0.94778762 0.92225871 0.9286217  0.92214875 0.93103347\n",
      " 0.89366194 0.89567786 0.89049145 0.9039578  0.92116645 0.90614233\n",
      " 0.88529037 0.90467621 0.92615861 0.92961133 0.92920448 0.91871802\n",
      " 0.91554019 0.907953   0.90993227 0.89063806 0.86344144 0.87492486\n",
      " 0.8884572  0.89704502 0.89199789 0.89804566 0.90882168 0.90738121\n",
      " 0.9066738  0.91767707 0.93759072 0.95075286 0.95954961 0.94640213\n",
      " 0.95129899 0.96527116 0.96911607 0.98059583 0.9839276  0.98377732\n",
      " 0.98761491 0.97331652 0.96051358 0.94721583 0.93696395 0.90265295\n",
      " 0.91209846 0.89979767 0.89919656 0.91663612 0.93400971 0.94890187\n",
      " 0.93278916 0.92957101 0.90738121 0.91127743 0.92572243 0.93613559\n",
      " 0.91919451 0.88019925 0.91755978 0.91534227 0.91405208 0.91197751\n",
      " 0.90687173 0.89848183 0.89635961 0.83659302 0.86668157 0.87661457\n",
      " 0.8271271  0.81016463 0.78723389 0.76518011 0.74513084 0.72722393\n",
      " 0.71123552 0.69671506 0.68312514 0.66995651 0.65680689 0.64342302\n",
      " 0.62970549 0.61569154 0.60151863 0.58738267]\n",
      "16 day output [[0.5734974]]\n",
      "17 day input [0.95987215 0.95688859 0.95250854 0.95893017 0.97005439 0.96827305\n",
      " 0.96629012 0.95576334 0.97256147 0.97305262 0.9649706  0.95759966\n",
      " 0.94778762 0.92225871 0.9286217  0.92214875 0.93103347 0.89366194\n",
      " 0.89567786 0.89049145 0.9039578  0.92116645 0.90614233 0.88529037\n",
      " 0.90467621 0.92615861 0.92961133 0.92920448 0.91871802 0.91554019\n",
      " 0.907953   0.90993227 0.89063806 0.86344144 0.87492486 0.8884572\n",
      " 0.89704502 0.89199789 0.89804566 0.90882168 0.90738121 0.9066738\n",
      " 0.91767707 0.93759072 0.95075286 0.95954961 0.94640213 0.95129899\n",
      " 0.96527116 0.96911607 0.98059583 0.9839276  0.98377732 0.98761491\n",
      " 0.97331652 0.96051358 0.94721583 0.93696395 0.90265295 0.91209846\n",
      " 0.89979767 0.89919656 0.91663612 0.93400971 0.94890187 0.93278916\n",
      " 0.92957101 0.90738121 0.91127743 0.92572243 0.93613559 0.91919451\n",
      " 0.88019925 0.91755978 0.91534227 0.91405208 0.91197751 0.90687173\n",
      " 0.89848183 0.89635961 0.83659302 0.86668157 0.87661457 0.8271271\n",
      " 0.81016463 0.78723389 0.76518011 0.74513084 0.72722393 0.71123552\n",
      " 0.69671506 0.68312514 0.66995651 0.65680689 0.64342302 0.62970549\n",
      " 0.61569154 0.60151863 0.58738267 0.57349741]\n",
      "17 day output [[0.5600624]]\n",
      "18 day input [0.95688859 0.95250854 0.95893017 0.97005439 0.96827305 0.96629012\n",
      " 0.95576334 0.97256147 0.97305262 0.9649706  0.95759966 0.94778762\n",
      " 0.92225871 0.9286217  0.92214875 0.93103347 0.89366194 0.89567786\n",
      " 0.89049145 0.9039578  0.92116645 0.90614233 0.88529037 0.90467621\n",
      " 0.92615861 0.92961133 0.92920448 0.91871802 0.91554019 0.907953\n",
      " 0.90993227 0.89063806 0.86344144 0.87492486 0.8884572  0.89704502\n",
      " 0.89199789 0.89804566 0.90882168 0.90738121 0.9066738  0.91767707\n",
      " 0.93759072 0.95075286 0.95954961 0.94640213 0.95129899 0.96527116\n",
      " 0.96911607 0.98059583 0.9839276  0.98377732 0.98761491 0.97331652\n",
      " 0.96051358 0.94721583 0.93696395 0.90265295 0.91209846 0.89979767\n",
      " 0.89919656 0.91663612 0.93400971 0.94890187 0.93278916 0.92957101\n",
      " 0.90738121 0.91127743 0.92572243 0.93613559 0.91919451 0.88019925\n",
      " 0.91755978 0.91534227 0.91405208 0.91197751 0.90687173 0.89848183\n",
      " 0.89635961 0.83659302 0.86668157 0.87661457 0.8271271  0.81016463\n",
      " 0.78723389 0.76518011 0.74513084 0.72722393 0.71123552 0.69671506\n",
      " 0.68312514 0.66995651 0.65680689 0.64342302 0.62970549 0.61569154\n",
      " 0.60151863 0.58738267 0.57349741 0.56006241]\n",
      "18 day output [[0.5472399]]\n",
      "19 day input [0.95250854 0.95893017 0.97005439 0.96827305 0.96629012 0.95576334\n",
      " 0.97256147 0.97305262 0.9649706  0.95759966 0.94778762 0.92225871\n",
      " 0.9286217  0.92214875 0.93103347 0.89366194 0.89567786 0.89049145\n",
      " 0.9039578  0.92116645 0.90614233 0.88529037 0.90467621 0.92615861\n",
      " 0.92961133 0.92920448 0.91871802 0.91554019 0.907953   0.90993227\n",
      " 0.89063806 0.86344144 0.87492486 0.8884572  0.89704502 0.89199789\n",
      " 0.89804566 0.90882168 0.90738121 0.9066738  0.91767707 0.93759072\n",
      " 0.95075286 0.95954961 0.94640213 0.95129899 0.96527116 0.96911607\n",
      " 0.98059583 0.9839276  0.98377732 0.98761491 0.97331652 0.96051358\n",
      " 0.94721583 0.93696395 0.90265295 0.91209846 0.89979767 0.89919656\n",
      " 0.91663612 0.93400971 0.94890187 0.93278916 0.92957101 0.90738121\n",
      " 0.91127743 0.92572243 0.93613559 0.91919451 0.88019925 0.91755978\n",
      " 0.91534227 0.91405208 0.91197751 0.90687173 0.89848183 0.89635961\n",
      " 0.83659302 0.86668157 0.87661457 0.8271271  0.81016463 0.78723389\n",
      " 0.76518011 0.74513084 0.72722393 0.71123552 0.69671506 0.68312514\n",
      " 0.66995651 0.65680689 0.64342302 0.62970549 0.61569154 0.60151863\n",
      " 0.58738267 0.57349741 0.56006241 0.5472399 ]\n"
     ]
    },
    {
     "name": "stdout",
     "output_type": "stream",
     "text": [
      "19 day output [[0.5351442]]\n",
      "20 day input [0.95893017 0.97005439 0.96827305 0.96629012 0.95576334 0.97256147\n",
      " 0.97305262 0.9649706  0.95759966 0.94778762 0.92225871 0.9286217\n",
      " 0.92214875 0.93103347 0.89366194 0.89567786 0.89049145 0.9039578\n",
      " 0.92116645 0.90614233 0.88529037 0.90467621 0.92615861 0.92961133\n",
      " 0.92920448 0.91871802 0.91554019 0.907953   0.90993227 0.89063806\n",
      " 0.86344144 0.87492486 0.8884572  0.89704502 0.89199789 0.89804566\n",
      " 0.90882168 0.90738121 0.9066738  0.91767707 0.93759072 0.95075286\n",
      " 0.95954961 0.94640213 0.95129899 0.96527116 0.96911607 0.98059583\n",
      " 0.9839276  0.98377732 0.98761491 0.97331652 0.96051358 0.94721583\n",
      " 0.93696395 0.90265295 0.91209846 0.89979767 0.89919656 0.91663612\n",
      " 0.93400971 0.94890187 0.93278916 0.92957101 0.90738121 0.91127743\n",
      " 0.92572243 0.93613559 0.91919451 0.88019925 0.91755978 0.91534227\n",
      " 0.91405208 0.91197751 0.90687173 0.89848183 0.89635961 0.83659302\n",
      " 0.86668157 0.87661457 0.8271271  0.81016463 0.78723389 0.76518011\n",
      " 0.74513084 0.72722393 0.71123552 0.69671506 0.68312514 0.66995651\n",
      " 0.65680689 0.64342302 0.62970549 0.61569154 0.60151863 0.58738267\n",
      " 0.57349741 0.56006241 0.5472399  0.53514421]\n",
      "20 day output [[0.52384055]]\n",
      "21 day input [0.97005439 0.96827305 0.96629012 0.95576334 0.97256147 0.97305262\n",
      " 0.9649706  0.95759966 0.94778762 0.92225871 0.9286217  0.92214875\n",
      " 0.93103347 0.89366194 0.89567786 0.89049145 0.9039578  0.92116645\n",
      " 0.90614233 0.88529037 0.90467621 0.92615861 0.92961133 0.92920448\n",
      " 0.91871802 0.91554019 0.907953   0.90993227 0.89063806 0.86344144\n",
      " 0.87492486 0.8884572  0.89704502 0.89199789 0.89804566 0.90882168\n",
      " 0.90738121 0.9066738  0.91767707 0.93759072 0.95075286 0.95954961\n",
      " 0.94640213 0.95129899 0.96527116 0.96911607 0.98059583 0.9839276\n",
      " 0.98377732 0.98761491 0.97331652 0.96051358 0.94721583 0.93696395\n",
      " 0.90265295 0.91209846 0.89979767 0.89919656 0.91663612 0.93400971\n",
      " 0.94890187 0.93278916 0.92957101 0.90738121 0.91127743 0.92572243\n",
      " 0.93613559 0.91919451 0.88019925 0.91755978 0.91534227 0.91405208\n",
      " 0.91197751 0.90687173 0.89848183 0.89635961 0.83659302 0.86668157\n",
      " 0.87661457 0.8271271  0.81016463 0.78723389 0.76518011 0.74513084\n",
      " 0.72722393 0.71123552 0.69671506 0.68312514 0.66995651 0.65680689\n",
      " 0.64342302 0.62970549 0.61569154 0.60151863 0.58738267 0.57349741\n",
      " 0.56006241 0.5472399  0.53514421 0.52384055]\n",
      "21 day output [[0.51335067]]\n",
      "22 day input [0.96827305 0.96629012 0.95576334 0.97256147 0.97305262 0.9649706\n",
      " 0.95759966 0.94778762 0.92225871 0.9286217  0.92214875 0.93103347\n",
      " 0.89366194 0.89567786 0.89049145 0.9039578  0.92116645 0.90614233\n",
      " 0.88529037 0.90467621 0.92615861 0.92961133 0.92920448 0.91871802\n",
      " 0.91554019 0.907953   0.90993227 0.89063806 0.86344144 0.87492486\n",
      " 0.8884572  0.89704502 0.89199789 0.89804566 0.90882168 0.90738121\n",
      " 0.9066738  0.91767707 0.93759072 0.95075286 0.95954961 0.94640213\n",
      " 0.95129899 0.96527116 0.96911607 0.98059583 0.9839276  0.98377732\n",
      " 0.98761491 0.97331652 0.96051358 0.94721583 0.93696395 0.90265295\n",
      " 0.91209846 0.89979767 0.89919656 0.91663612 0.93400971 0.94890187\n",
      " 0.93278916 0.92957101 0.90738121 0.91127743 0.92572243 0.93613559\n",
      " 0.91919451 0.88019925 0.91755978 0.91534227 0.91405208 0.91197751\n",
      " 0.90687173 0.89848183 0.89635961 0.83659302 0.86668157 0.87661457\n",
      " 0.8271271  0.81016463 0.78723389 0.76518011 0.74513084 0.72722393\n",
      " 0.71123552 0.69671506 0.68312514 0.66995651 0.65680689 0.64342302\n",
      " 0.62970549 0.61569154 0.60151863 0.58738267 0.57349741 0.56006241\n",
      " 0.5472399  0.53514421 0.52384055 0.51335067]\n",
      "22 day output [[0.50366193]]\n",
      "23 day input [0.96629012 0.95576334 0.97256147 0.97305262 0.9649706  0.95759966\n",
      " 0.94778762 0.92225871 0.9286217  0.92214875 0.93103347 0.89366194\n",
      " 0.89567786 0.89049145 0.9039578  0.92116645 0.90614233 0.88529037\n",
      " 0.90467621 0.92615861 0.92961133 0.92920448 0.91871802 0.91554019\n",
      " 0.907953   0.90993227 0.89063806 0.86344144 0.87492486 0.8884572\n",
      " 0.89704502 0.89199789 0.89804566 0.90882168 0.90738121 0.9066738\n",
      " 0.91767707 0.93759072 0.95075286 0.95954961 0.94640213 0.95129899\n",
      " 0.96527116 0.96911607 0.98059583 0.9839276  0.98377732 0.98761491\n",
      " 0.97331652 0.96051358 0.94721583 0.93696395 0.90265295 0.91209846\n",
      " 0.89979767 0.89919656 0.91663612 0.93400971 0.94890187 0.93278916\n",
      " 0.92957101 0.90738121 0.91127743 0.92572243 0.93613559 0.91919451\n",
      " 0.88019925 0.91755978 0.91534227 0.91405208 0.91197751 0.90687173\n",
      " 0.89848183 0.89635961 0.83659302 0.86668157 0.87661457 0.8271271\n",
      " 0.81016463 0.78723389 0.76518011 0.74513084 0.72722393 0.71123552\n",
      " 0.69671506 0.68312514 0.66995651 0.65680689 0.64342302 0.62970549\n",
      " 0.61569154 0.60151863 0.58738267 0.57349741 0.56006241 0.5472399\n",
      " 0.53514421 0.52384055 0.51335067 0.50366193]\n",
      "23 day output [[0.49473888]]\n",
      "24 day input [0.95576334 0.97256147 0.97305262 0.9649706  0.95759966 0.94778762\n",
      " 0.92225871 0.9286217  0.92214875 0.93103347 0.89366194 0.89567786\n",
      " 0.89049145 0.9039578  0.92116645 0.90614233 0.88529037 0.90467621\n",
      " 0.92615861 0.92961133 0.92920448 0.91871802 0.91554019 0.907953\n",
      " 0.90993227 0.89063806 0.86344144 0.87492486 0.8884572  0.89704502\n",
      " 0.89199789 0.89804566 0.90882168 0.90738121 0.9066738  0.91767707\n",
      " 0.93759072 0.95075286 0.95954961 0.94640213 0.95129899 0.96527116\n",
      " 0.96911607 0.98059583 0.9839276  0.98377732 0.98761491 0.97331652\n",
      " 0.96051358 0.94721583 0.93696395 0.90265295 0.91209846 0.89979767\n",
      " 0.89919656 0.91663612 0.93400971 0.94890187 0.93278916 0.92957101\n",
      " 0.90738121 0.91127743 0.92572243 0.93613559 0.91919451 0.88019925\n",
      " 0.91755978 0.91534227 0.91405208 0.91197751 0.90687173 0.89848183\n",
      " 0.89635961 0.83659302 0.86668157 0.87661457 0.8271271  0.81016463\n",
      " 0.78723389 0.76518011 0.74513084 0.72722393 0.71123552 0.69671506\n",
      " 0.68312514 0.66995651 0.65680689 0.64342302 0.62970549 0.61569154\n",
      " 0.60151863 0.58738267 0.57349741 0.56006241 0.5472399  0.53514421\n",
      " 0.52384055 0.51335067 0.50366193 0.49473888]\n",
      "24 day output [[0.48653385]]\n",
      "25 day input [0.97256147 0.97305262 0.9649706  0.95759966 0.94778762 0.92225871\n",
      " 0.9286217  0.92214875 0.93103347 0.89366194 0.89567786 0.89049145\n",
      " 0.9039578  0.92116645 0.90614233 0.88529037 0.90467621 0.92615861\n",
      " 0.92961133 0.92920448 0.91871802 0.91554019 0.907953   0.90993227\n",
      " 0.89063806 0.86344144 0.87492486 0.8884572  0.89704502 0.89199789\n",
      " 0.89804566 0.90882168 0.90738121 0.9066738  0.91767707 0.93759072\n",
      " 0.95075286 0.95954961 0.94640213 0.95129899 0.96527116 0.96911607\n",
      " 0.98059583 0.9839276  0.98377732 0.98761491 0.97331652 0.96051358\n",
      " 0.94721583 0.93696395 0.90265295 0.91209846 0.89979767 0.89919656\n",
      " 0.91663612 0.93400971 0.94890187 0.93278916 0.92957101 0.90738121\n",
      " 0.91127743 0.92572243 0.93613559 0.91919451 0.88019925 0.91755978\n",
      " 0.91534227 0.91405208 0.91197751 0.90687173 0.89848183 0.89635961\n",
      " 0.83659302 0.86668157 0.87661457 0.8271271  0.81016463 0.78723389\n",
      " 0.76518011 0.74513084 0.72722393 0.71123552 0.69671506 0.68312514\n",
      " 0.66995651 0.65680689 0.64342302 0.62970549 0.61569154 0.60151863\n",
      " 0.58738267 0.57349741 0.56006241 0.5472399  0.53514421 0.52384055\n",
      " 0.51335067 0.50366193 0.49473888 0.48653385]\n",
      "25 day output [[0.4789953]]\n",
      "26 day input [0.97305262 0.9649706  0.95759966 0.94778762 0.92225871 0.9286217\n",
      " 0.92214875 0.93103347 0.89366194 0.89567786 0.89049145 0.9039578\n",
      " 0.92116645 0.90614233 0.88529037 0.90467621 0.92615861 0.92961133\n",
      " 0.92920448 0.91871802 0.91554019 0.907953   0.90993227 0.89063806\n",
      " 0.86344144 0.87492486 0.8884572  0.89704502 0.89199789 0.89804566\n",
      " 0.90882168 0.90738121 0.9066738  0.91767707 0.93759072 0.95075286\n",
      " 0.95954961 0.94640213 0.95129899 0.96527116 0.96911607 0.98059583\n",
      " 0.9839276  0.98377732 0.98761491 0.97331652 0.96051358 0.94721583\n",
      " 0.93696395 0.90265295 0.91209846 0.89979767 0.89919656 0.91663612\n",
      " 0.93400971 0.94890187 0.93278916 0.92957101 0.90738121 0.91127743\n",
      " 0.92572243 0.93613559 0.91919451 0.88019925 0.91755978 0.91534227\n",
      " 0.91405208 0.91197751 0.90687173 0.89848183 0.89635961 0.83659302\n",
      " 0.86668157 0.87661457 0.8271271  0.81016463 0.78723389 0.76518011\n",
      " 0.74513084 0.72722393 0.71123552 0.69671506 0.68312514 0.66995651\n",
      " 0.65680689 0.64342302 0.62970549 0.61569154 0.60151863 0.58738267\n",
      " 0.57349741 0.56006241 0.5472399  0.53514421 0.52384055 0.51335067\n",
      " 0.50366193 0.49473888 0.48653385 0.47899529]\n",
      "26 day output [[0.47207445]]\n",
      "27 day input [0.9649706  0.95759966 0.94778762 0.92225871 0.9286217  0.92214875\n",
      " 0.93103347 0.89366194 0.89567786 0.89049145 0.9039578  0.92116645\n",
      " 0.90614233 0.88529037 0.90467621 0.92615861 0.92961133 0.92920448\n",
      " 0.91871802 0.91554019 0.907953   0.90993227 0.89063806 0.86344144\n",
      " 0.87492486 0.8884572  0.89704502 0.89199789 0.89804566 0.90882168\n",
      " 0.90738121 0.9066738  0.91767707 0.93759072 0.95075286 0.95954961\n",
      " 0.94640213 0.95129899 0.96527116 0.96911607 0.98059583 0.9839276\n",
      " 0.98377732 0.98761491 0.97331652 0.96051358 0.94721583 0.93696395\n",
      " 0.90265295 0.91209846 0.89979767 0.89919656 0.91663612 0.93400971\n",
      " 0.94890187 0.93278916 0.92957101 0.90738121 0.91127743 0.92572243\n",
      " 0.93613559 0.91919451 0.88019925 0.91755978 0.91534227 0.91405208\n",
      " 0.91197751 0.90687173 0.89848183 0.89635961 0.83659302 0.86668157\n",
      " 0.87661457 0.8271271  0.81016463 0.78723389 0.76518011 0.74513084\n",
      " 0.72722393 0.71123552 0.69671506 0.68312514 0.66995651 0.65680689\n",
      " 0.64342302 0.62970549 0.61569154 0.60151863 0.58738267 0.57349741\n",
      " 0.56006241 0.5472399  0.53514421 0.52384055 0.51335067 0.50366193\n",
      " 0.49473888 0.48653385 0.47899529 0.47207445]\n",
      "27 day output [[0.46572882]]\n",
      "28 day input [0.95759966 0.94778762 0.92225871 0.9286217  0.92214875 0.93103347\n",
      " 0.89366194 0.89567786 0.89049145 0.9039578  0.92116645 0.90614233\n",
      " 0.88529037 0.90467621 0.92615861 0.92961133 0.92920448 0.91871802\n",
      " 0.91554019 0.907953   0.90993227 0.89063806 0.86344144 0.87492486\n",
      " 0.8884572  0.89704502 0.89199789 0.89804566 0.90882168 0.90738121\n",
      " 0.9066738  0.91767707 0.93759072 0.95075286 0.95954961 0.94640213\n",
      " 0.95129899 0.96527116 0.96911607 0.98059583 0.9839276  0.98377732\n",
      " 0.98761491 0.97331652 0.96051358 0.94721583 0.93696395 0.90265295\n",
      " 0.91209846 0.89979767 0.89919656 0.91663612 0.93400971 0.94890187\n",
      " 0.93278916 0.92957101 0.90738121 0.91127743 0.92572243 0.93613559\n",
      " 0.91919451 0.88019925 0.91755978 0.91534227 0.91405208 0.91197751\n",
      " 0.90687173 0.89848183 0.89635961 0.83659302 0.86668157 0.87661457\n",
      " 0.8271271  0.81016463 0.78723389 0.76518011 0.74513084 0.72722393\n",
      " 0.71123552 0.69671506 0.68312514 0.66995651 0.65680689 0.64342302\n",
      " 0.62970549 0.61569154 0.60151863 0.58738267 0.57349741 0.56006241\n",
      " 0.5472399  0.53514421 0.52384055 0.51335067 0.50366193 0.49473888\n",
      " 0.48653385 0.47899529 0.47207445 0.46572882]\n",
      "28 day output [[0.45992383]]\n",
      "29 day input [0.94778762 0.92225871 0.9286217  0.92214875 0.93103347 0.89366194\n",
      " 0.89567786 0.89049145 0.9039578  0.92116645 0.90614233 0.88529037\n",
      " 0.90467621 0.92615861 0.92961133 0.92920448 0.91871802 0.91554019\n",
      " 0.907953   0.90993227 0.89063806 0.86344144 0.87492486 0.8884572\n",
      " 0.89704502 0.89199789 0.89804566 0.90882168 0.90738121 0.9066738\n",
      " 0.91767707 0.93759072 0.95075286 0.95954961 0.94640213 0.95129899\n",
      " 0.96527116 0.96911607 0.98059583 0.9839276  0.98377732 0.98761491\n",
      " 0.97331652 0.96051358 0.94721583 0.93696395 0.90265295 0.91209846\n",
      " 0.89979767 0.89919656 0.91663612 0.93400971 0.94890187 0.93278916\n",
      " 0.92957101 0.90738121 0.91127743 0.92572243 0.93613559 0.91919451\n",
      " 0.88019925 0.91755978 0.91534227 0.91405208 0.91197751 0.90687173\n",
      " 0.89848183 0.89635961 0.83659302 0.86668157 0.87661457 0.8271271\n",
      " 0.81016463 0.78723389 0.76518011 0.74513084 0.72722393 0.71123552\n",
      " 0.69671506 0.68312514 0.66995651 0.65680689 0.64342302 0.62970549\n",
      " 0.61569154 0.60151863 0.58738267 0.57349741 0.56006241 0.5472399\n",
      " 0.53514421 0.52384055 0.51335067 0.50366193 0.49473888 0.48653385\n",
      " 0.47899529 0.47207445 0.46572882 0.45992383]\n"
     ]
    },
    {
     "name": "stdout",
     "output_type": "stream",
     "text": [
      "29 day output [[0.454632]]\n",
      "[[0.8271270990371704], [0.8101646304130554], [0.7872338891029358], [0.7651801109313965], [0.7451308369636536], [0.7272239327430725], [0.711235523223877], [0.6967150568962097], [0.6831251382827759], [0.6699565052986145], [0.6568068861961365], [0.6434230208396912], [0.6297054886817932], [0.6156915426254272], [0.6015186309814453], [0.5873826742172241], [0.5734974145889282], [0.5600624084472656], [0.5472398996353149], [0.5351442098617554], [0.5238405466079712], [0.5133506655693054], [0.5036619305610657], [0.4947388768196106], [0.48653385043144226], [0.47899529337882996], [0.4720744490623474], [0.4657288193702698], [0.4599238336086273], [0.4546320140361786]]\n"
     ]
    }
   ],
   "source": [
    "# demonstrate prediction for next 10 days\n",
    "from numpy import array\n",
    "\n",
    "lst_output=[]\n",
    "n_steps=100\n",
    "i=0\n",
    "while(i<30):\n",
    "    \n",
    "    if(len(temp_input)>100):\n",
    "        #print(temp_input)\n",
    "        x_input=np.array(temp_input[1:])\n",
    "        print(\"{} day input {}\".format(i,x_input))\n",
    "        x_input=x_input.reshape(1,-1)\n",
    "        x_input = x_input.reshape((1, n_steps, 1))\n",
    "        #print(x_input)\n",
    "        yhat = model.predict(x_input, verbose=0)\n",
    "        print(\"{} day output {}\".format(i,yhat))\n",
    "        temp_input.extend(yhat[0].tolist())\n",
    "        temp_input=temp_input[1:]\n",
    "        #print(temp_input)\n",
    "        lst_output.extend(yhat.tolist())\n",
    "        i=i+1\n",
    "    else:\n",
    "        x_input = x_input.reshape((1, n_steps,1))\n",
    "        yhat = model.predict(x_input, verbose=0)\n",
    "        print(yhat[0])\n",
    "        temp_input.extend(yhat[0].tolist())\n",
    "        print(len(temp_input))\n",
    "        lst_output.extend(yhat.tolist())\n",
    "        i=i+1\n",
    "    \n",
    "\n",
    "print(lst_output)"
   ]
  },
  {
   "cell_type": "code",
   "execution_count": 40,
   "id": "8561503c",
   "metadata": {
    "ExecuteTime": {
     "end_time": "2022-03-04T07:31:48.776377Z",
     "start_time": "2022-03-04T07:31:48.757427Z"
    }
   },
   "outputs": [],
   "source": [
    "day_new=np.arange(1,101)\n",
    "day_pred=np.arange(101,131)"
   ]
  },
  {
   "cell_type": "code",
   "execution_count": 41,
   "id": "45bdbfa3",
   "metadata": {
    "ExecuteTime": {
     "end_time": "2022-03-04T07:31:49.948802Z",
     "start_time": "2022-03-04T07:31:49.929855Z"
    }
   },
   "outputs": [
    {
     "data": {
      "text/plain": [
       "2477"
      ]
     },
     "execution_count": 41,
     "metadata": {},
     "output_type": "execute_result"
    }
   ],
   "source": [
    "len(df)"
   ]
  },
  {
   "cell_type": "code",
   "execution_count": 42,
   "id": "b3aa9c62",
   "metadata": {
    "ExecuteTime": {
     "end_time": "2022-03-04T07:31:51.006369Z",
     "start_time": "2022-03-04T07:31:50.856820Z"
    }
   },
   "outputs": [
    {
     "data": {
      "text/plain": [
       "[<matplotlib.lines.Line2D at 0x1510c114820>]"
      ]
     },
     "execution_count": 42,
     "metadata": {},
     "output_type": "execute_result"
    },
    {
     "data": {
      "image/png": "[encoded data removed]",
      "text/plain": [
       "<Figure size 432x288 with 1 Axes>"
      ]
     },
     "metadata": {
      "needs_background": "light"
     },
     "output_type": "display_data"
    }
   ],
   "source": [
    "plt.plot(day_new,scaler.inverse_transform(df[2377:]))\n",
    "plt.plot(day_pred,scaler.inverse_transform(lst_output))"
   ]
  },
  {
   "cell_type": "code",
   "execution_count": 43,
   "id": "1f9bdcdb",
   "metadata": {
    "ExecuteTime": {
     "end_time": "2022-03-04T07:32:03.148584Z",
     "start_time": "2022-03-04T07:32:03.002453Z"
    }
   },
   "outputs": [
    {
     "data": {
      "text/plain": [
       "[<matplotlib.lines.Line2D at 0x1510c1c6970>]"
      ]
     },
     "execution_count": 43,
     "metadata": {},
     "output_type": "execute_result"
    },
    {
     "data": {
      "image/png": "[encoded data removed]",
      "text/plain": [
       "<Figure size 432x288 with 1 Axes>"
      ]
     },
     "metadata": {
      "needs_background": "light"
     },
     "output_type": "display_data"
    }
   ],
   "source": [
    "df3=df.tolist()\n",
    "df3.extend(lst_output)\n",
    "plt.plot(df3[1200:])"
   ]
  },
  {
   "cell_type": "code",
   "execution_count": 44,
   "id": "f18bf8a9",
   "metadata": {
    "ExecuteTime": {
     "end_time": "2022-03-04T07:32:06.332923Z",
     "start_time": "2022-03-04T07:32:06.197054Z"
    }
   },
   "outputs": [
    {
     "data": {
      "text/plain": [
       "[<matplotlib.lines.Line2D at 0x1510c125520>]"
      ]
     },
     "execution_count": 44,
     "metadata": {},
     "output_type": "execute_result"
    },
    {
     "data": {
      "image/png": "[encoded data removed]",
      "text/plain": [
       "<Figure size 432x288 with 1 Axes>"
      ]
     },
     "metadata": {
      "needs_background": "light"
     },
     "output_type": "display_data"
    }
   ],
   "source": [
    "df3=scaler.inverse_transform(df3).tolist()\n",
    "plt.plot(df3)"
   ]
  }
 ],
 "metadata": {
  "kernelspec": {
   "display_name": "Python 3",
   "language": "python",
   "name": "python3"
  },
  "language_info": {
   "codemirror_mode": {
    "name": "ipython",
    "version": 3
   },
   "file_extension": ".py",
   "mimetype": "text/x-python",
   "name": "python",
   "nbconvert_exporter": "python",
   "pygments_lexer": "ipython3",
   "version": "3.8.8"
  },
  "toc": {
   "base_numbering": 1,
   "nav_menu": {},
   "number_sections": true,
   "sideBar": true,
   "skip_h1_title": false,
   "title_cell": "Table of Contents",
   "title_sidebar": "Contents",
   "toc_cell": false,
   "toc_position": {},
   "toc_section_display": true,
   "toc_window_display": false
  },
  "varInspector": {
   "cols": {
    "lenName": 16,
    "lenType": 16,
    "lenVar": 40
   },
   "kernels_config": {
    "python": {
     "delete_cmd_postfix": "",
     "delete_cmd_prefix": "del ",
     "library": "var_list.py",
     "varRefreshCmd": "print(var_dic_list())"
    },
    "r": {
     "delete_cmd_postfix": ") ",
     "delete_cmd_prefix": "rm(",
     "library": "var_list.r",
     "varRefreshCmd": "cat(var_dic_list()) "
    }
   },
   "types_to_exclude": [
    "module",
    "function",
    "builtin_function_or_method",
    "instance",
    "_Feature"
   ],
   "window_display": false
  }
 },
 "nbformat": 4,
 "nbformat_minor": 5
}
